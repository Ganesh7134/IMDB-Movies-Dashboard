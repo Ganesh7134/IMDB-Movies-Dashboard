{
  "nbformat": 4,
  "nbformat_minor": 0,
  "metadata": {
    "colab": {
      "provenance": [],
      "mount_file_id": "1hI3hf0iVcyk6cFxNI-ykMT7ikZqyUKQa",
      "authorship_tag": "ABX9TyNrfdkto4Rx6Db3V2YfwLN5",
      "include_colab_link": true
    },
    "kernelspec": {
      "name": "python3",
      "display_name": "Python 3"
    },
    "language_info": {
      "name": "python"
    }
  },
  "cells": [
    {
      "cell_type": "markdown",
      "metadata": {
        "id": "view-in-github",
        "colab_type": "text"
      },
      "source": [
        "<a href=\"https://colab.research.google.com/github/Ganesh7134/IMDB-Movies-Dashboard/blob/main/IMDB_preprocessing.ipynb\" target=\"_parent\"><img src=\"https://colab.research.google.com/assets/colab-badge.svg\" alt=\"Open In Colab\"/></a>"
      ]
    },
    {
      "cell_type": "code",
      "execution_count": 1,
      "metadata": {
        "id": "38oMaOHfPGDc"
      },
      "outputs": [],
      "source": [
        "import pandas as pd\n",
        "import numpy as np"
      ]
    },
    {
      "cell_type": "code",
      "source": [
        "df = pd.read_csv(\"/content/drive/MyDrive/IMDB_Movies.csv\")\n",
        "df.head()"
      ],
      "metadata": {
        "colab": {
          "base_uri": "https://localhost:8080/",
          "height": 307
        },
        "id": "WLKEVvJySFgK",
        "outputId": "489349ed-c4fd-480b-bd68-6448c313838c"
      },
      "execution_count": 2,
      "outputs": [
        {
          "output_type": "execute_result",
          "data": {
            "text/plain": [
              "   color      director_name  num_critic_for_reviews  duration  \\\n",
              "0  Color      James Cameron                   723.0     178.0   \n",
              "1  Color     Gore Verbinski                   302.0     169.0   \n",
              "2  Color         Sam Mendes                   602.0     148.0   \n",
              "3  Color  Christopher Nolan                   813.0     164.0   \n",
              "4    NaN        Doug Walker                     NaN       NaN   \n",
              "\n",
              "   director_facebook_likes  actor_3_facebook_likes      actor_2_name  \\\n",
              "0                      0.0                   855.0  Joel David Moore   \n",
              "1                    563.0                  1000.0     Orlando Bloom   \n",
              "2                      0.0                   161.0      Rory Kinnear   \n",
              "3                  22000.0                 23000.0    Christian Bale   \n",
              "4                    131.0                     NaN        Rob Walker   \n",
              "\n",
              "   actor_1_facebook_likes        gross                           genres  ...  \\\n",
              "0                  1000.0  760505847.0  Action|Adventure|Fantasy|Sci-Fi  ...   \n",
              "1                 40000.0  309404152.0         Action|Adventure|Fantasy  ...   \n",
              "2                 11000.0  200074175.0        Action|Adventure|Thriller  ...   \n",
              "3                 27000.0  448130642.0                  Action|Thriller  ...   \n",
              "4                   131.0          NaN                      Documentary  ...   \n",
              "\n",
              "  num_user_for_reviews language  country  content_rating       budget  \\\n",
              "0                 3054  English      USA           PG-13  237000000.0   \n",
              "1                 1238  English      USA           PG-13  300000000.0   \n",
              "2                  994  English       UK           PG-13  245000000.0   \n",
              "3                 2701  English      USA           PG-13  250000000.0   \n",
              "4                           NaN      NaN             NaN          NaN   \n",
              "\n",
              "   title_year actor_2_facebook_likes imdb_score aspect_ratio  \\\n",
              "0      2009.0                  936.0        7.9         1.78   \n",
              "1      2007.0                 5000.0        7.1         2.35   \n",
              "2      2015.0                  393.0        6.8         2.35   \n",
              "3      2012.0                23000.0        8.5         2.35   \n",
              "4         NaN                   12.0        7.1          NaN   \n",
              "\n",
              "  movie_facebook_likes  \n",
              "0                33000  \n",
              "1                    0  \n",
              "2                85000  \n",
              "3               164000  \n",
              "4                    0  \n",
              "\n",
              "[5 rows x 28 columns]"
            ],
            "text/html": [
              "\n",
              "  <div id=\"df-96a24c7a-1204-43a4-a3b1-0eda0cc613da\" class=\"colab-df-container\">\n",
              "    <div>\n",
              "<style scoped>\n",
              "    .dataframe tbody tr th:only-of-type {\n",
              "        vertical-align: middle;\n",
              "    }\n",
              "\n",
              "    .dataframe tbody tr th {\n",
              "        vertical-align: top;\n",
              "    }\n",
              "\n",
              "    .dataframe thead th {\n",
              "        text-align: right;\n",
              "    }\n",
              "</style>\n",
              "<table border=\"1\" class=\"dataframe\">\n",
              "  <thead>\n",
              "    <tr style=\"text-align: right;\">\n",
              "      <th></th>\n",
              "      <th>color</th>\n",
              "      <th>director_name</th>\n",
              "      <th>num_critic_for_reviews</th>\n",
              "      <th>duration</th>\n",
              "      <th>director_facebook_likes</th>\n",
              "      <th>actor_3_facebook_likes</th>\n",
              "      <th>actor_2_name</th>\n",
              "      <th>actor_1_facebook_likes</th>\n",
              "      <th>gross</th>\n",
              "      <th>genres</th>\n",
              "      <th>...</th>\n",
              "      <th>num_user_for_reviews</th>\n",
              "      <th>language</th>\n",
              "      <th>country</th>\n",
              "      <th>content_rating</th>\n",
              "      <th>budget</th>\n",
              "      <th>title_year</th>\n",
              "      <th>actor_2_facebook_likes</th>\n",
              "      <th>imdb_score</th>\n",
              "      <th>aspect_ratio</th>\n",
              "      <th>movie_facebook_likes</th>\n",
              "    </tr>\n",
              "  </thead>\n",
              "  <tbody>\n",
              "    <tr>\n",
              "      <th>0</th>\n",
              "      <td>Color</td>\n",
              "      <td>James Cameron</td>\n",
              "      <td>723.0</td>\n",
              "      <td>178.0</td>\n",
              "      <td>0.0</td>\n",
              "      <td>855.0</td>\n",
              "      <td>Joel David Moore</td>\n",
              "      <td>1000.0</td>\n",
              "      <td>760505847.0</td>\n",
              "      <td>Action|Adventure|Fantasy|Sci-Fi</td>\n",
              "      <td>...</td>\n",
              "      <td>3054</td>\n",
              "      <td>English</td>\n",
              "      <td>USA</td>\n",
              "      <td>PG-13</td>\n",
              "      <td>237000000.0</td>\n",
              "      <td>2009.0</td>\n",
              "      <td>936.0</td>\n",
              "      <td>7.9</td>\n",
              "      <td>1.78</td>\n",
              "      <td>33000</td>\n",
              "    </tr>\n",
              "    <tr>\n",
              "      <th>1</th>\n",
              "      <td>Color</td>\n",
              "      <td>Gore Verbinski</td>\n",
              "      <td>302.0</td>\n",
              "      <td>169.0</td>\n",
              "      <td>563.0</td>\n",
              "      <td>1000.0</td>\n",
              "      <td>Orlando Bloom</td>\n",
              "      <td>40000.0</td>\n",
              "      <td>309404152.0</td>\n",
              "      <td>Action|Adventure|Fantasy</td>\n",
              "      <td>...</td>\n",
              "      <td>1238</td>\n",
              "      <td>English</td>\n",
              "      <td>USA</td>\n",
              "      <td>PG-13</td>\n",
              "      <td>300000000.0</td>\n",
              "      <td>2007.0</td>\n",
              "      <td>5000.0</td>\n",
              "      <td>7.1</td>\n",
              "      <td>2.35</td>\n",
              "      <td>0</td>\n",
              "    </tr>\n",
              "    <tr>\n",
              "      <th>2</th>\n",
              "      <td>Color</td>\n",
              "      <td>Sam Mendes</td>\n",
              "      <td>602.0</td>\n",
              "      <td>148.0</td>\n",
              "      <td>0.0</td>\n",
              "      <td>161.0</td>\n",
              "      <td>Rory Kinnear</td>\n",
              "      <td>11000.0</td>\n",
              "      <td>200074175.0</td>\n",
              "      <td>Action|Adventure|Thriller</td>\n",
              "      <td>...</td>\n",
              "      <td>994</td>\n",
              "      <td>English</td>\n",
              "      <td>UK</td>\n",
              "      <td>PG-13</td>\n",
              "      <td>245000000.0</td>\n",
              "      <td>2015.0</td>\n",
              "      <td>393.0</td>\n",
              "      <td>6.8</td>\n",
              "      <td>2.35</td>\n",
              "      <td>85000</td>\n",
              "    </tr>\n",
              "    <tr>\n",
              "      <th>3</th>\n",
              "      <td>Color</td>\n",
              "      <td>Christopher Nolan</td>\n",
              "      <td>813.0</td>\n",
              "      <td>164.0</td>\n",
              "      <td>22000.0</td>\n",
              "      <td>23000.0</td>\n",
              "      <td>Christian Bale</td>\n",
              "      <td>27000.0</td>\n",
              "      <td>448130642.0</td>\n",
              "      <td>Action|Thriller</td>\n",
              "      <td>...</td>\n",
              "      <td>2701</td>\n",
              "      <td>English</td>\n",
              "      <td>USA</td>\n",
              "      <td>PG-13</td>\n",
              "      <td>250000000.0</td>\n",
              "      <td>2012.0</td>\n",
              "      <td>23000.0</td>\n",
              "      <td>8.5</td>\n",
              "      <td>2.35</td>\n",
              "      <td>164000</td>\n",
              "    </tr>\n",
              "    <tr>\n",
              "      <th>4</th>\n",
              "      <td>NaN</td>\n",
              "      <td>Doug Walker</td>\n",
              "      <td>NaN</td>\n",
              "      <td>NaN</td>\n",
              "      <td>131.0</td>\n",
              "      <td>NaN</td>\n",
              "      <td>Rob Walker</td>\n",
              "      <td>131.0</td>\n",
              "      <td>NaN</td>\n",
              "      <td>Documentary</td>\n",
              "      <td>...</td>\n",
              "      <td></td>\n",
              "      <td>NaN</td>\n",
              "      <td>NaN</td>\n",
              "      <td>NaN</td>\n",
              "      <td>NaN</td>\n",
              "      <td>NaN</td>\n",
              "      <td>12.0</td>\n",
              "      <td>7.1</td>\n",
              "      <td>NaN</td>\n",
              "      <td>0</td>\n",
              "    </tr>\n",
              "  </tbody>\n",
              "</table>\n",
              "<p>5 rows × 28 columns</p>\n",
              "</div>\n",
              "    <div class=\"colab-df-buttons\">\n",
              "\n",
              "  <div class=\"colab-df-container\">\n",
              "    <button class=\"colab-df-convert\" onclick=\"convertToInteractive('df-96a24c7a-1204-43a4-a3b1-0eda0cc613da')\"\n",
              "            title=\"Convert this dataframe to an interactive table.\"\n",
              "            style=\"display:none;\">\n",
              "\n",
              "  <svg xmlns=\"http://www.w3.org/2000/svg\" height=\"24px\" viewBox=\"0 -960 960 960\">\n",
              "    <path d=\"M120-120v-720h720v720H120Zm60-500h600v-160H180v160Zm220 220h160v-160H400v160Zm0 220h160v-160H400v160ZM180-400h160v-160H180v160Zm440 0h160v-160H620v160ZM180-180h160v-160H180v160Zm440 0h160v-160H620v160Z\"/>\n",
              "  </svg>\n",
              "    </button>\n",
              "\n",
              "  <style>\n",
              "    .colab-df-container {\n",
              "      display:flex;\n",
              "      gap: 12px;\n",
              "    }\n",
              "\n",
              "    .colab-df-convert {\n",
              "      background-color: #E8F0FE;\n",
              "      border: none;\n",
              "      border-radius: 50%;\n",
              "      cursor: pointer;\n",
              "      display: none;\n",
              "      fill: #1967D2;\n",
              "      height: 32px;\n",
              "      padding: 0 0 0 0;\n",
              "      width: 32px;\n",
              "    }\n",
              "\n",
              "    .colab-df-convert:hover {\n",
              "      background-color: #E2EBFA;\n",
              "      box-shadow: 0px 1px 2px rgba(60, 64, 67, 0.3), 0px 1px 3px 1px rgba(60, 64, 67, 0.15);\n",
              "      fill: #174EA6;\n",
              "    }\n",
              "\n",
              "    .colab-df-buttons div {\n",
              "      margin-bottom: 4px;\n",
              "    }\n",
              "\n",
              "    [theme=dark] .colab-df-convert {\n",
              "      background-color: #3B4455;\n",
              "      fill: #D2E3FC;\n",
              "    }\n",
              "\n",
              "    [theme=dark] .colab-df-convert:hover {\n",
              "      background-color: #434B5C;\n",
              "      box-shadow: 0px 1px 3px 1px rgba(0, 0, 0, 0.15);\n",
              "      filter: drop-shadow(0px 1px 2px rgba(0, 0, 0, 0.3));\n",
              "      fill: #FFFFFF;\n",
              "    }\n",
              "  </style>\n",
              "\n",
              "    <script>\n",
              "      const buttonEl =\n",
              "        document.querySelector('#df-96a24c7a-1204-43a4-a3b1-0eda0cc613da button.colab-df-convert');\n",
              "      buttonEl.style.display =\n",
              "        google.colab.kernel.accessAllowed ? 'block' : 'none';\n",
              "\n",
              "      async function convertToInteractive(key) {\n",
              "        const element = document.querySelector('#df-96a24c7a-1204-43a4-a3b1-0eda0cc613da');\n",
              "        const dataTable =\n",
              "          await google.colab.kernel.invokeFunction('convertToInteractive',\n",
              "                                                    [key], {});\n",
              "        if (!dataTable) return;\n",
              "\n",
              "        const docLinkHtml = 'Like what you see? Visit the ' +\n",
              "          '<a target=\"_blank\" href=https://colab.research.google.com/notebooks/data_table.ipynb>data table notebook</a>'\n",
              "          + ' to learn more about interactive tables.';\n",
              "        element.innerHTML = '';\n",
              "        dataTable['output_type'] = 'display_data';\n",
              "        await google.colab.output.renderOutput(dataTable, element);\n",
              "        const docLink = document.createElement('div');\n",
              "        docLink.innerHTML = docLinkHtml;\n",
              "        element.appendChild(docLink);\n",
              "      }\n",
              "    </script>\n",
              "  </div>\n",
              "\n",
              "\n",
              "<div id=\"df-5af98605-3924-474c-8896-1e83b8d89842\">\n",
              "  <button class=\"colab-df-quickchart\" onclick=\"quickchart('df-5af98605-3924-474c-8896-1e83b8d89842')\"\n",
              "            title=\"Suggest charts\"\n",
              "            style=\"display:none;\">\n",
              "\n",
              "<svg xmlns=\"http://www.w3.org/2000/svg\" height=\"24px\"viewBox=\"0 0 24 24\"\n",
              "     width=\"24px\">\n",
              "    <g>\n",
              "        <path d=\"M19 3H5c-1.1 0-2 .9-2 2v14c0 1.1.9 2 2 2h14c1.1 0 2-.9 2-2V5c0-1.1-.9-2-2-2zM9 17H7v-7h2v7zm4 0h-2V7h2v10zm4 0h-2v-4h2v4z\"/>\n",
              "    </g>\n",
              "</svg>\n",
              "  </button>\n",
              "\n",
              "<style>\n",
              "  .colab-df-quickchart {\n",
              "      --bg-color: #E8F0FE;\n",
              "      --fill-color: #1967D2;\n",
              "      --hover-bg-color: #E2EBFA;\n",
              "      --hover-fill-color: #174EA6;\n",
              "      --disabled-fill-color: #AAA;\n",
              "      --disabled-bg-color: #DDD;\n",
              "  }\n",
              "\n",
              "  [theme=dark] .colab-df-quickchart {\n",
              "      --bg-color: #3B4455;\n",
              "      --fill-color: #D2E3FC;\n",
              "      --hover-bg-color: #434B5C;\n",
              "      --hover-fill-color: #FFFFFF;\n",
              "      --disabled-bg-color: #3B4455;\n",
              "      --disabled-fill-color: #666;\n",
              "  }\n",
              "\n",
              "  .colab-df-quickchart {\n",
              "    background-color: var(--bg-color);\n",
              "    border: none;\n",
              "    border-radius: 50%;\n",
              "    cursor: pointer;\n",
              "    display: none;\n",
              "    fill: var(--fill-color);\n",
              "    height: 32px;\n",
              "    padding: 0;\n",
              "    width: 32px;\n",
              "  }\n",
              "\n",
              "  .colab-df-quickchart:hover {\n",
              "    background-color: var(--hover-bg-color);\n",
              "    box-shadow: 0 1px 2px rgba(60, 64, 67, 0.3), 0 1px 3px 1px rgba(60, 64, 67, 0.15);\n",
              "    fill: var(--button-hover-fill-color);\n",
              "  }\n",
              "\n",
              "  .colab-df-quickchart-complete:disabled,\n",
              "  .colab-df-quickchart-complete:disabled:hover {\n",
              "    background-color: var(--disabled-bg-color);\n",
              "    fill: var(--disabled-fill-color);\n",
              "    box-shadow: none;\n",
              "  }\n",
              "\n",
              "  .colab-df-spinner {\n",
              "    border: 2px solid var(--fill-color);\n",
              "    border-color: transparent;\n",
              "    border-bottom-color: var(--fill-color);\n",
              "    animation:\n",
              "      spin 1s steps(1) infinite;\n",
              "  }\n",
              "\n",
              "  @keyframes spin {\n",
              "    0% {\n",
              "      border-color: transparent;\n",
              "      border-bottom-color: var(--fill-color);\n",
              "      border-left-color: var(--fill-color);\n",
              "    }\n",
              "    20% {\n",
              "      border-color: transparent;\n",
              "      border-left-color: var(--fill-color);\n",
              "      border-top-color: var(--fill-color);\n",
              "    }\n",
              "    30% {\n",
              "      border-color: transparent;\n",
              "      border-left-color: var(--fill-color);\n",
              "      border-top-color: var(--fill-color);\n",
              "      border-right-color: var(--fill-color);\n",
              "    }\n",
              "    40% {\n",
              "      border-color: transparent;\n",
              "      border-right-color: var(--fill-color);\n",
              "      border-top-color: var(--fill-color);\n",
              "    }\n",
              "    60% {\n",
              "      border-color: transparent;\n",
              "      border-right-color: var(--fill-color);\n",
              "    }\n",
              "    80% {\n",
              "      border-color: transparent;\n",
              "      border-right-color: var(--fill-color);\n",
              "      border-bottom-color: var(--fill-color);\n",
              "    }\n",
              "    90% {\n",
              "      border-color: transparent;\n",
              "      border-bottom-color: var(--fill-color);\n",
              "    }\n",
              "  }\n",
              "</style>\n",
              "\n",
              "  <script>\n",
              "    async function quickchart(key) {\n",
              "      const quickchartButtonEl =\n",
              "        document.querySelector('#' + key + ' button');\n",
              "      quickchartButtonEl.disabled = true;  // To prevent multiple clicks.\n",
              "      quickchartButtonEl.classList.add('colab-df-spinner');\n",
              "      try {\n",
              "        const charts = await google.colab.kernel.invokeFunction(\n",
              "            'suggestCharts', [key], {});\n",
              "      } catch (error) {\n",
              "        console.error('Error during call to suggestCharts:', error);\n",
              "      }\n",
              "      quickchartButtonEl.classList.remove('colab-df-spinner');\n",
              "      quickchartButtonEl.classList.add('colab-df-quickchart-complete');\n",
              "    }\n",
              "    (() => {\n",
              "      let quickchartButtonEl =\n",
              "        document.querySelector('#df-5af98605-3924-474c-8896-1e83b8d89842 button');\n",
              "      quickchartButtonEl.style.display =\n",
              "        google.colab.kernel.accessAllowed ? 'block' : 'none';\n",
              "    })();\n",
              "  </script>\n",
              "</div>\n",
              "\n",
              "    </div>\n",
              "  </div>\n"
            ]
          },
          "metadata": {},
          "execution_count": 2
        }
      ]
    },
    {
      "cell_type": "code",
      "source": [
        "len(df)"
      ],
      "metadata": {
        "colab": {
          "base_uri": "https://localhost:8080/"
        },
        "id": "cdLgyhZASPd1",
        "outputId": "a1b2dddb-480e-478a-ea43-758850648e4f"
      },
      "execution_count": 3,
      "outputs": [
        {
          "output_type": "execute_result",
          "data": {
            "text/plain": [
              "5043"
            ]
          },
          "metadata": {},
          "execution_count": 3
        }
      ]
    },
    {
      "cell_type": "code",
      "source": [
        "df.isnull().sum()"
      ],
      "metadata": {
        "colab": {
          "base_uri": "https://localhost:8080/"
        },
        "id": "9GbMMRMHSWKh",
        "outputId": "e867fb6b-76a4-470c-fa64-e25b9bec697a"
      },
      "execution_count": 4,
      "outputs": [
        {
          "output_type": "execute_result",
          "data": {
            "text/plain": [
              "color                         19\n",
              "director_name                104\n",
              "num_critic_for_reviews        50\n",
              "duration                      15\n",
              "director_facebook_likes      104\n",
              "actor_3_facebook_likes        23\n",
              "actor_2_name                  13\n",
              "actor_1_facebook_likes         7\n",
              "gross                        884\n",
              "genres                         0\n",
              "actor_1_name                   7\n",
              "movie_title                    0\n",
              "num_voted_users                0\n",
              "cast_total_facebook_likes      0\n",
              "actor_3_name                  23\n",
              "facenumber_in_poster          13\n",
              "plot_keywords                153\n",
              "movie_imdb_link                0\n",
              "num_user_for_reviews          20\n",
              "language                      12\n",
              "country                        5\n",
              "content_rating               303\n",
              "budget                       492\n",
              "title_year                   108\n",
              "actor_2_facebook_likes        13\n",
              "imdb_score                     0\n",
              "aspect_ratio                 329\n",
              "movie_facebook_likes           0\n",
              "dtype: int64"
            ]
          },
          "metadata": {},
          "execution_count": 4
        }
      ]
    },
    {
      "cell_type": "code",
      "source": [
        "df[\"gross\"].min() , df[\"gross\"].max()"
      ],
      "metadata": {
        "colab": {
          "base_uri": "https://localhost:8080/"
        },
        "id": "K_HvkxYUScGg",
        "outputId": "ee41f865-0813-4186-936e-64ddf5e08601"
      },
      "execution_count": 5,
      "outputs": [
        {
          "output_type": "execute_result",
          "data": {
            "text/plain": [
              "(162.0, 760505847.0)"
            ]
          },
          "metadata": {},
          "execution_count": 5
        }
      ]
    },
    {
      "cell_type": "code",
      "source": [
        "import matplotlib.pyplot as plt\n",
        "df.groupby(\"movie_title\")[\"gross\"].mean().sort_values(ascending=False)[:10].plot(kind=\"bar\")\n",
        "plt.xticks(rotation=45, ha=\"right\")  # Rotate x-axis labels for readability\n",
        "plt.show()"
      ],
      "metadata": {
        "colab": {
          "base_uri": "https://localhost:8080/",
          "height": 678
        },
        "id": "NPDVMYz9S6iY",
        "outputId": "3fca749a-6ed3-488e-97c0-0c52b755b898"
      },
      "execution_count": 6,
      "outputs": [
        {
          "output_type": "display_data",
          "data": {
            "text/plain": [
              "<Figure size 640x480 with 1 Axes>"
            ],
            "image/png": "[encoded data removed]"
          },
          "metadata": {}
        }
      ]
    },
    {
      "cell_type": "code",
      "source": [
        "from sklearn.impute import KNNImputer\n",
        "imputer = KNNImputer(n_neighbors=5)\n",
        "Imputed = imputer.fit_transform(df[\"gross\"].values.reshape(-1,1))"
      ],
      "metadata": {
        "id": "UfOHQe3RTDaf"
      },
      "execution_count": 7,
      "outputs": []
    },
    {
      "cell_type": "code",
      "source": [
        "df[\"gross\"] = Imputed"
      ],
      "metadata": {
        "id": "W_0FmqZiXSJH"
      },
      "execution_count": 8,
      "outputs": []
    },
    {
      "cell_type": "code",
      "source": [
        "df[\"gross\"].head()"
      ],
      "metadata": {
        "colab": {
          "base_uri": "https://localhost:8080/"
        },
        "id": "dUgOxnTHXkmZ",
        "outputId": "2b414c04-b837-4360-a7ab-833d72a9646a"
      },
      "execution_count": 9,
      "outputs": [
        {
          "output_type": "execute_result",
          "data": {
            "text/plain": [
              "0    7.605058e+08\n",
              "1    3.094042e+08\n",
              "2    2.000742e+08\n",
              "3    4.481306e+08\n",
              "4    4.846841e+07\n",
              "Name: gross, dtype: float64"
            ]
          },
          "metadata": {},
          "execution_count": 9
        }
      ]
    },
    {
      "cell_type": "code",
      "source": [
        "df[\"gross\"].min() , df[\"gross\"].max()"
      ],
      "metadata": {
        "colab": {
          "base_uri": "https://localhost:8080/"
        },
        "id": "AFI8P4aZXoFy",
        "outputId": "b420834f-bfbc-4a86-e5c5-c5e42e0c5227"
      },
      "execution_count": 10,
      "outputs": [
        {
          "output_type": "execute_result",
          "data": {
            "text/plain": [
              "(162.0, 760505847.0)"
            ]
          },
          "metadata": {},
          "execution_count": 10
        }
      ]
    },
    {
      "cell_type": "code",
      "source": [
        "df.isna().sum()"
      ],
      "metadata": {
        "colab": {
          "base_uri": "https://localhost:8080/"
        },
        "id": "w0NNVS_qX0WX",
        "outputId": "2990fd5e-94cb-4d55-97fc-4fe5da90c04a"
      },
      "execution_count": 11,
      "outputs": [
        {
          "output_type": "execute_result",
          "data": {
            "text/plain": [
              "color                         19\n",
              "director_name                104\n",
              "num_critic_for_reviews        50\n",
              "duration                      15\n",
              "director_facebook_likes      104\n",
              "actor_3_facebook_likes        23\n",
              "actor_2_name                  13\n",
              "actor_1_facebook_likes         7\n",
              "gross                          0\n",
              "genres                         0\n",
              "actor_1_name                   7\n",
              "movie_title                    0\n",
              "num_voted_users                0\n",
              "cast_total_facebook_likes      0\n",
              "actor_3_name                  23\n",
              "facenumber_in_poster          13\n",
              "plot_keywords                153\n",
              "movie_imdb_link                0\n",
              "num_user_for_reviews          20\n",
              "language                      12\n",
              "country                        5\n",
              "content_rating               303\n",
              "budget                       492\n",
              "title_year                   108\n",
              "actor_2_facebook_likes        13\n",
              "imdb_score                     0\n",
              "aspect_ratio                 329\n",
              "movie_facebook_likes           0\n",
              "dtype: int64"
            ]
          },
          "metadata": {},
          "execution_count": 11
        }
      ]
    },
    {
      "cell_type": "code",
      "source": [
        "df[\"color\"].value_counts()"
      ],
      "metadata": {
        "colab": {
          "base_uri": "https://localhost:8080/"
        },
        "id": "TNPhSz-SX6xY",
        "outputId": "74dbd3d6-6f1a-48d7-fa49-862e8fb6a523"
      },
      "execution_count": 12,
      "outputs": [
        {
          "output_type": "execute_result",
          "data": {
            "text/plain": [
              "Color               4815\n",
              " Black and White     209\n",
              "Name: color, dtype: int64"
            ]
          },
          "metadata": {},
          "execution_count": 12
        }
      ]
    },
    {
      "cell_type": "code",
      "source": [
        "df[\"color\"].mode()[0]"
      ],
      "metadata": {
        "colab": {
          "base_uri": "https://localhost:8080/",
          "height": 36
        },
        "id": "OIi0-7abYZd3",
        "outputId": "c916ef65-ae88-4b4d-fcad-38b50224de33"
      },
      "execution_count": 13,
      "outputs": [
        {
          "output_type": "execute_result",
          "data": {
            "text/plain": [
              "'Color'"
            ],
            "application/vnd.google.colaboratory.intrinsic+json": {
              "type": "string"
            }
          },
          "metadata": {},
          "execution_count": 13
        }
      ]
    },
    {
      "cell_type": "code",
      "source": [
        "df[\"color\"] = df[\"color\"].fillna(df[\"color\"].mode()[0])"
      ],
      "metadata": {
        "id": "jmBvn8j4YCjQ"
      },
      "execution_count": 14,
      "outputs": []
    },
    {
      "cell_type": "code",
      "source": [
        "df.isna().sum()"
      ],
      "metadata": {
        "colab": {
          "base_uri": "https://localhost:8080/"
        },
        "id": "8B8UO-0dYgV_",
        "outputId": "a042e369-ca7c-43cc-9e3d-90f10bbc6f71"
      },
      "execution_count": 15,
      "outputs": [
        {
          "output_type": "execute_result",
          "data": {
            "text/plain": [
              "color                          0\n",
              "director_name                104\n",
              "num_critic_for_reviews        50\n",
              "duration                      15\n",
              "director_facebook_likes      104\n",
              "actor_3_facebook_likes        23\n",
              "actor_2_name                  13\n",
              "actor_1_facebook_likes         7\n",
              "gross                          0\n",
              "genres                         0\n",
              "actor_1_name                   7\n",
              "movie_title                    0\n",
              "num_voted_users                0\n",
              "cast_total_facebook_likes      0\n",
              "actor_3_name                  23\n",
              "facenumber_in_poster          13\n",
              "plot_keywords                153\n",
              "movie_imdb_link                0\n",
              "num_user_for_reviews          20\n",
              "language                      12\n",
              "country                        5\n",
              "content_rating               303\n",
              "budget                       492\n",
              "title_year                   108\n",
              "actor_2_facebook_likes        13\n",
              "imdb_score                     0\n",
              "aspect_ratio                 329\n",
              "movie_facebook_likes           0\n",
              "dtype: int64"
            ]
          },
          "metadata": {},
          "execution_count": 15
        }
      ]
    },
    {
      "cell_type": "code",
      "source": [
        "df[\"director_name\"].value_counts().sort_values(ascending=False)"
      ],
      "metadata": {
        "colab": {
          "base_uri": "https://localhost:8080/"
        },
        "id": "IPchfgvhYiuQ",
        "outputId": "256b1aaa-6948-4007-e1c3-0369438b8377"
      },
      "execution_count": 16,
      "outputs": [
        {
          "output_type": "execute_result",
          "data": {
            "text/plain": [
              "Steven Spielberg    26\n",
              "Woody Allen         22\n",
              "Clint Eastwood      20\n",
              "Martin Scorsese     20\n",
              "Ridley Scott        17\n",
              "                    ..\n",
              "Ryan Smith           1\n",
              "Travis Romero        1\n",
              "Andrew Haigh         1\n",
              "Cary Bell            1\n",
              "Daniel Hsia          1\n",
              "Name: director_name, Length: 2398, dtype: int64"
            ]
          },
          "metadata": {},
          "execution_count": 16
        }
      ]
    },
    {
      "cell_type": "code",
      "source": [
        "df.isna().sum()[\"director_name\"]"
      ],
      "metadata": {
        "colab": {
          "base_uri": "https://localhost:8080/"
        },
        "id": "Jzdpii6uYp5I",
        "outputId": "36fb31c5-e788-40d7-cbc4-a4e661fec78d"
      },
      "execution_count": 17,
      "outputs": [
        {
          "output_type": "execute_result",
          "data": {
            "text/plain": [
              "104"
            ]
          },
          "metadata": {},
          "execution_count": 17
        }
      ]
    },
    {
      "cell_type": "code",
      "source": [
        "df[df[\"director_name\"].isna()]"
      ],
      "metadata": {
        "colab": {
          "base_uri": "https://localhost:8080/",
          "height": 547
        },
        "id": "R7XEWK7qbkAQ",
        "outputId": "953fa851-f5e3-4c3c-8acd-11d80c0910fd"
      },
      "execution_count": 18,
      "outputs": [
        {
          "output_type": "execute_result",
          "data": {
            "text/plain": [
              "                 color director_name  num_critic_for_reviews  duration  \\\n",
              "177              Color           NaN                    21.0      60.0   \n",
              "260              Color           NaN                    29.0      60.0   \n",
              "404              Color           NaN                   103.0      44.0   \n",
              "459              Color           NaN                    95.0      54.0   \n",
              "479    Black and White           NaN                    31.0      25.0   \n",
              "...                ...           ...                     ...       ...   \n",
              "4798             Color           NaN                    75.0      60.0   \n",
              "4803             Color           NaN                    11.0      22.0   \n",
              "4819             Color           NaN                    23.0      43.0   \n",
              "4869             Color           NaN                    11.0      58.0   \n",
              "5039             Color           NaN                    43.0      43.0   \n",
              "\n",
              "      director_facebook_likes  actor_3_facebook_likes           actor_2_name  \\\n",
              "177                       NaN                   184.0  Philip Michael Thomas   \n",
              "260                       NaN                   432.0          Dirk Benedict   \n",
              "404                       NaN                   148.0         Scott Thompson   \n",
              "459                       NaN                     0.0          Royce Johnson   \n",
              "479                       NaN                   474.0        Agnes Moorehead   \n",
              "...                       ...                     ...                    ...   \n",
              "4798                      NaN                   833.0               Masi Oka   \n",
              "4803                      NaN                     6.0              Ron Lynch   \n",
              "4819                      NaN                   576.0       Tracy Spiridakos   \n",
              "4869                      NaN                   250.0           James Norton   \n",
              "5039                      NaN                   319.0          Valorie Curry   \n",
              "\n",
              "      actor_1_facebook_likes         gross  \\\n",
              "177                    982.0  4.846841e+07   \n",
              "260                    669.0  4.846841e+07   \n",
              "404                    544.0  4.846841e+07   \n",
              "459                    577.0  4.846841e+07   \n",
              "479                   1000.0  4.846841e+07   \n",
              "...                      ...           ...   \n",
              "4798                  1000.0  4.846841e+07   \n",
              "4803                    59.0  4.846841e+07   \n",
              "4819                  2000.0  4.846841e+07   \n",
              "4869                   887.0  4.846841e+07   \n",
              "5039                   841.0  4.846841e+07   \n",
              "\n",
              "                                            genres  ... num_user_for_reviews  \\\n",
              "177            Action|Crime|Drama|Mystery|Thriller  ...                   74   \n",
              "260                         Action|Adventure|Crime  ...                   97   \n",
              "404            Crime|Drama|Horror|Mystery|Thriller  ...                  270   \n",
              "459   Action|Adventure|Crime|Drama|Sci-Fi|Thriller  ...                  394   \n",
              "479                          Comedy|Family|Fantasy  ...                   71   \n",
              "...                                            ...  ...                  ...   \n",
              "4798                 Drama|Fantasy|Sci-Fi|Thriller  ...                  379   \n",
              "4803                        Animation|Comedy|Drama  ...                   82   \n",
              "4819                 Action|Adventure|Drama|Sci-Fi  ...                  323   \n",
              "4869                                   Crime|Drama  ...                   59   \n",
              "5039                  Crime|Drama|Mystery|Thriller  ...                  359   \n",
              "\n",
              "     language  country  content_rating     budget  title_year  \\\n",
              "177   English      USA           TV-14  1500000.0         NaN   \n",
              "260   English      USA           TV-PG        NaN         NaN   \n",
              "404   English      USA           TV-14        NaN         NaN   \n",
              "459   English      USA           TV-MA        NaN         NaN   \n",
              "479   English      USA            TV-G        NaN         NaN   \n",
              "...       ...      ...             ...        ...         ...   \n",
              "4798  English      USA           TV-14        NaN         NaN   \n",
              "4803  English      USA           TV-PG        NaN         NaN   \n",
              "4819  English      USA           TV-14        NaN         NaN   \n",
              "4869  English       UK           TV-MA        NaN         NaN   \n",
              "5039  English      USA           TV-14        NaN         NaN   \n",
              "\n",
              "     actor_2_facebook_likes imdb_score aspect_ratio movie_facebook_likes  \n",
              "177                   321.0        7.5         1.33                    0  \n",
              "260                   554.0        7.6         4.00                    0  \n",
              "404                   183.0        8.6         1.78                59000  \n",
              "459                     4.0        8.8        16.00                55000  \n",
              "479                   960.0        7.6         4.00                    0  \n",
              "...                     ...        ...          ...                  ...  \n",
              "4798                  923.0        7.7        16.00                    0  \n",
              "4803                   11.0        8.2         1.33                  526  \n",
              "4819                  821.0        6.7        16.00                17000  \n",
              "4869                  340.0        8.5        16.00                10000  \n",
              "5039                  593.0        7.5        16.00                32000  \n",
              "\n",
              "[104 rows x 28 columns]"
            ],
            "text/html": [
              "\n",
              "  <div id=\"df-61047943-035b-4ed9-ae52-edd3ad9f3c33\" class=\"colab-df-container\">\n",
              "    <div>\n",
              "<style scoped>\n",
              "    .dataframe tbody tr th:only-of-type {\n",
              "        vertical-align: middle;\n",
              "    }\n",
              "\n",
              "    .dataframe tbody tr th {\n",
              "        vertical-align: top;\n",
              "    }\n",
              "\n",
              "    .dataframe thead th {\n",
              "        text-align: right;\n",
              "    }\n",
              "</style>\n",
              "<table border=\"1\" class=\"dataframe\">\n",
              "  <thead>\n",
              "    <tr style=\"text-align: right;\">\n",
              "      <th></th>\n",
              "      <th>color</th>\n",
              "      <th>director_name</th>\n",
              "      <th>num_critic_for_reviews</th>\n",
              "      <th>duration</th>\n",
              "      <th>director_facebook_likes</th>\n",
              "      <th>actor_3_facebook_likes</th>\n",
              "      <th>actor_2_name</th>\n",
              "      <th>actor_1_facebook_likes</th>\n",
              "      <th>gross</th>\n",
              "      <th>genres</th>\n",
              "      <th>...</th>\n",
              "      <th>num_user_for_reviews</th>\n",
              "      <th>language</th>\n",
              "      <th>country</th>\n",
              "      <th>content_rating</th>\n",
              "      <th>budget</th>\n",
              "      <th>title_year</th>\n",
              "      <th>actor_2_facebook_likes</th>\n",
              "      <th>imdb_score</th>\n",
              "      <th>aspect_ratio</th>\n",
              "      <th>movie_facebook_likes</th>\n",
              "    </tr>\n",
              "  </thead>\n",
              "  <tbody>\n",
              "    <tr>\n",
              "      <th>177</th>\n",
              "      <td>Color</td>\n",
              "      <td>NaN</td>\n",
              "      <td>21.0</td>\n",
              "      <td>60.0</td>\n",
              "      <td>NaN</td>\n",
              "      <td>184.0</td>\n",
              "      <td>Philip Michael Thomas</td>\n",
              "      <td>982.0</td>\n",
              "      <td>4.846841e+07</td>\n",
              "      <td>Action|Crime|Drama|Mystery|Thriller</td>\n",
              "      <td>...</td>\n",
              "      <td>74</td>\n",
              "      <td>English</td>\n",
              "      <td>USA</td>\n",
              "      <td>TV-14</td>\n",
              "      <td>1500000.0</td>\n",
              "      <td>NaN</td>\n",
              "      <td>321.0</td>\n",
              "      <td>7.5</td>\n",
              "      <td>1.33</td>\n",
              "      <td>0</td>\n",
              "    </tr>\n",
              "    <tr>\n",
              "      <th>260</th>\n",
              "      <td>Color</td>\n",
              "      <td>NaN</td>\n",
              "      <td>29.0</td>\n",
              "      <td>60.0</td>\n",
              "      <td>NaN</td>\n",
              "      <td>432.0</td>\n",
              "      <td>Dirk Benedict</td>\n",
              "      <td>669.0</td>\n",
              "      <td>4.846841e+07</td>\n",
              "      <td>Action|Adventure|Crime</td>\n",
              "      <td>...</td>\n",
              "      <td>97</td>\n",
              "      <td>English</td>\n",
              "      <td>USA</td>\n",
              "      <td>TV-PG</td>\n",
              "      <td>NaN</td>\n",
              "      <td>NaN</td>\n",
              "      <td>554.0</td>\n",
              "      <td>7.6</td>\n",
              "      <td>4.00</td>\n",
              "      <td>0</td>\n",
              "    </tr>\n",
              "    <tr>\n",
              "      <th>404</th>\n",
              "      <td>Color</td>\n",
              "      <td>NaN</td>\n",
              "      <td>103.0</td>\n",
              "      <td>44.0</td>\n",
              "      <td>NaN</td>\n",
              "      <td>148.0</td>\n",
              "      <td>Scott Thompson</td>\n",
              "      <td>544.0</td>\n",
              "      <td>4.846841e+07</td>\n",
              "      <td>Crime|Drama|Horror|Mystery|Thriller</td>\n",
              "      <td>...</td>\n",
              "      <td>270</td>\n",
              "      <td>English</td>\n",
              "      <td>USA</td>\n",
              "      <td>TV-14</td>\n",
              "      <td>NaN</td>\n",
              "      <td>NaN</td>\n",
              "      <td>183.0</td>\n",
              "      <td>8.6</td>\n",
              "      <td>1.78</td>\n",
              "      <td>59000</td>\n",
              "    </tr>\n",
              "    <tr>\n",
              "      <th>459</th>\n",
              "      <td>Color</td>\n",
              "      <td>NaN</td>\n",
              "      <td>95.0</td>\n",
              "      <td>54.0</td>\n",
              "      <td>NaN</td>\n",
              "      <td>0.0</td>\n",
              "      <td>Royce Johnson</td>\n",
              "      <td>577.0</td>\n",
              "      <td>4.846841e+07</td>\n",
              "      <td>Action|Adventure|Crime|Drama|Sci-Fi|Thriller</td>\n",
              "      <td>...</td>\n",
              "      <td>394</td>\n",
              "      <td>English</td>\n",
              "      <td>USA</td>\n",
              "      <td>TV-MA</td>\n",
              "      <td>NaN</td>\n",
              "      <td>NaN</td>\n",
              "      <td>4.0</td>\n",
              "      <td>8.8</td>\n",
              "      <td>16.00</td>\n",
              "      <td>55000</td>\n",
              "    </tr>\n",
              "    <tr>\n",
              "      <th>479</th>\n",
              "      <td>Black and White</td>\n",
              "      <td>NaN</td>\n",
              "      <td>31.0</td>\n",
              "      <td>25.0</td>\n",
              "      <td>NaN</td>\n",
              "      <td>474.0</td>\n",
              "      <td>Agnes Moorehead</td>\n",
              "      <td>1000.0</td>\n",
              "      <td>4.846841e+07</td>\n",
              "      <td>Comedy|Family|Fantasy</td>\n",
              "      <td>...</td>\n",
              "      <td>71</td>\n",
              "      <td>English</td>\n",
              "      <td>USA</td>\n",
              "      <td>TV-G</td>\n",
              "      <td>NaN</td>\n",
              "      <td>NaN</td>\n",
              "      <td>960.0</td>\n",
              "      <td>7.6</td>\n",
              "      <td>4.00</td>\n",
              "      <td>0</td>\n",
              "    </tr>\n",
              "    <tr>\n",
              "      <th>...</th>\n",
              "      <td>...</td>\n",
              "      <td>...</td>\n",
              "      <td>...</td>\n",
              "      <td>...</td>\n",
              "      <td>...</td>\n",
              "      <td>...</td>\n",
              "      <td>...</td>\n",
              "      <td>...</td>\n",
              "      <td>...</td>\n",
              "      <td>...</td>\n",
              "      <td>...</td>\n",
              "      <td>...</td>\n",
              "      <td>...</td>\n",
              "      <td>...</td>\n",
              "      <td>...</td>\n",
              "      <td>...</td>\n",
              "      <td>...</td>\n",
              "      <td>...</td>\n",
              "      <td>...</td>\n",
              "      <td>...</td>\n",
              "      <td>...</td>\n",
              "    </tr>\n",
              "    <tr>\n",
              "      <th>4798</th>\n",
              "      <td>Color</td>\n",
              "      <td>NaN</td>\n",
              "      <td>75.0</td>\n",
              "      <td>60.0</td>\n",
              "      <td>NaN</td>\n",
              "      <td>833.0</td>\n",
              "      <td>Masi Oka</td>\n",
              "      <td>1000.0</td>\n",
              "      <td>4.846841e+07</td>\n",
              "      <td>Drama|Fantasy|Sci-Fi|Thriller</td>\n",
              "      <td>...</td>\n",
              "      <td>379</td>\n",
              "      <td>English</td>\n",
              "      <td>USA</td>\n",
              "      <td>TV-14</td>\n",
              "      <td>NaN</td>\n",
              "      <td>NaN</td>\n",
              "      <td>923.0</td>\n",
              "      <td>7.7</td>\n",
              "      <td>16.00</td>\n",
              "      <td>0</td>\n",
              "    </tr>\n",
              "    <tr>\n",
              "      <th>4803</th>\n",
              "      <td>Color</td>\n",
              "      <td>NaN</td>\n",
              "      <td>11.0</td>\n",
              "      <td>22.0</td>\n",
              "      <td>NaN</td>\n",
              "      <td>6.0</td>\n",
              "      <td>Ron Lynch</td>\n",
              "      <td>59.0</td>\n",
              "      <td>4.846841e+07</td>\n",
              "      <td>Animation|Comedy|Drama</td>\n",
              "      <td>...</td>\n",
              "      <td>82</td>\n",
              "      <td>English</td>\n",
              "      <td>USA</td>\n",
              "      <td>TV-PG</td>\n",
              "      <td>NaN</td>\n",
              "      <td>NaN</td>\n",
              "      <td>11.0</td>\n",
              "      <td>8.2</td>\n",
              "      <td>1.33</td>\n",
              "      <td>526</td>\n",
              "    </tr>\n",
              "    <tr>\n",
              "      <th>4819</th>\n",
              "      <td>Color</td>\n",
              "      <td>NaN</td>\n",
              "      <td>23.0</td>\n",
              "      <td>43.0</td>\n",
              "      <td>NaN</td>\n",
              "      <td>576.0</td>\n",
              "      <td>Tracy Spiridakos</td>\n",
              "      <td>2000.0</td>\n",
              "      <td>4.846841e+07</td>\n",
              "      <td>Action|Adventure|Drama|Sci-Fi</td>\n",
              "      <td>...</td>\n",
              "      <td>323</td>\n",
              "      <td>English</td>\n",
              "      <td>USA</td>\n",
              "      <td>TV-14</td>\n",
              "      <td>NaN</td>\n",
              "      <td>NaN</td>\n",
              "      <td>821.0</td>\n",
              "      <td>6.7</td>\n",
              "      <td>16.00</td>\n",
              "      <td>17000</td>\n",
              "    </tr>\n",
              "    <tr>\n",
              "      <th>4869</th>\n",
              "      <td>Color</td>\n",
              "      <td>NaN</td>\n",
              "      <td>11.0</td>\n",
              "      <td>58.0</td>\n",
              "      <td>NaN</td>\n",
              "      <td>250.0</td>\n",
              "      <td>James Norton</td>\n",
              "      <td>887.0</td>\n",
              "      <td>4.846841e+07</td>\n",
              "      <td>Crime|Drama</td>\n",
              "      <td>...</td>\n",
              "      <td>59</td>\n",
              "      <td>English</td>\n",
              "      <td>UK</td>\n",
              "      <td>TV-MA</td>\n",
              "      <td>NaN</td>\n",
              "      <td>NaN</td>\n",
              "      <td>340.0</td>\n",
              "      <td>8.5</td>\n",
              "      <td>16.00</td>\n",
              "      <td>10000</td>\n",
              "    </tr>\n",
              "    <tr>\n",
              "      <th>5039</th>\n",
              "      <td>Color</td>\n",
              "      <td>NaN</td>\n",
              "      <td>43.0</td>\n",
              "      <td>43.0</td>\n",
              "      <td>NaN</td>\n",
              "      <td>319.0</td>\n",
              "      <td>Valorie Curry</td>\n",
              "      <td>841.0</td>\n",
              "      <td>4.846841e+07</td>\n",
              "      <td>Crime|Drama|Mystery|Thriller</td>\n",
              "      <td>...</td>\n",
              "      <td>359</td>\n",
              "      <td>English</td>\n",
              "      <td>USA</td>\n",
              "      <td>TV-14</td>\n",
              "      <td>NaN</td>\n",
              "      <td>NaN</td>\n",
              "      <td>593.0</td>\n",
              "      <td>7.5</td>\n",
              "      <td>16.00</td>\n",
              "      <td>32000</td>\n",
              "    </tr>\n",
              "  </tbody>\n",
              "</table>\n",
              "<p>104 rows × 28 columns</p>\n",
              "</div>\n",
              "    <div class=\"colab-df-buttons\">\n",
              "\n",
              "  <div class=\"colab-df-container\">\n",
              "    <button class=\"colab-df-convert\" onclick=\"convertToInteractive('df-61047943-035b-4ed9-ae52-edd3ad9f3c33')\"\n",
              "            title=\"Convert this dataframe to an interactive table.\"\n",
              "            style=\"display:none;\">\n",
              "\n",
              "  <svg xmlns=\"http://www.w3.org/2000/svg\" height=\"24px\" viewBox=\"0 -960 960 960\">\n",
              "    <path d=\"M120-120v-720h720v720H120Zm60-500h600v-160H180v160Zm220 220h160v-160H400v160Zm0 220h160v-160H400v160ZM180-400h160v-160H180v160Zm440 0h160v-160H620v160ZM180-180h160v-160H180v160Zm440 0h160v-160H620v160Z\"/>\n",
              "  </svg>\n",
              "    </button>\n",
              "\n",
              "  <style>\n",
              "    .colab-df-container {\n",
              "      display:flex;\n",
              "      gap: 12px;\n",
              "    }\n",
              "\n",
              "    .colab-df-convert {\n",
              "      background-color: #E8F0FE;\n",
              "      border: none;\n",
              "      border-radius: 50%;\n",
              "      cursor: pointer;\n",
              "      display: none;\n",
              "      fill: #1967D2;\n",
              "      height: 32px;\n",
              "      padding: 0 0 0 0;\n",
              "      width: 32px;\n",
              "    }\n",
              "\n",
              "    .colab-df-convert:hover {\n",
              "      background-color: #E2EBFA;\n",
              "      box-shadow: 0px 1px 2px rgba(60, 64, 67, 0.3), 0px 1px 3px 1px rgba(60, 64, 67, 0.15);\n",
              "      fill: #174EA6;\n",
              "    }\n",
              "\n",
              "    .colab-df-buttons div {\n",
              "      margin-bottom: 4px;\n",
              "    }\n",
              "\n",
              "    [theme=dark] .colab-df-convert {\n",
              "      background-color: #3B4455;\n",
              "      fill: #D2E3FC;\n",
              "    }\n",
              "\n",
              "    [theme=dark] .colab-df-convert:hover {\n",
              "      background-color: #434B5C;\n",
              "      box-shadow: 0px 1px 3px 1px rgba(0, 0, 0, 0.15);\n",
              "      filter: drop-shadow(0px 1px 2px rgba(0, 0, 0, 0.3));\n",
              "      fill: #FFFFFF;\n",
              "    }\n",
              "  </style>\n",
              "\n",
              "    <script>\n",
              "      const buttonEl =\n",
              "        document.querySelector('#df-61047943-035b-4ed9-ae52-edd3ad9f3c33 button.colab-df-convert');\n",
              "      buttonEl.style.display =\n",
              "        google.colab.kernel.accessAllowed ? 'block' : 'none';\n",
              "\n",
              "      async function convertToInteractive(key) {\n",
              "        const element = document.querySelector('#df-61047943-035b-4ed9-ae52-edd3ad9f3c33');\n",
              "        const dataTable =\n",
              "          await google.colab.kernel.invokeFunction('convertToInteractive',\n",
              "                                                    [key], {});\n",
              "        if (!dataTable) return;\n",
              "\n",
              "        const docLinkHtml = 'Like what you see? Visit the ' +\n",
              "          '<a target=\"_blank\" href=https://colab.research.google.com/notebooks/data_table.ipynb>data table notebook</a>'\n",
              "          + ' to learn more about interactive tables.';\n",
              "        element.innerHTML = '';\n",
              "        dataTable['output_type'] = 'display_data';\n",
              "        await google.colab.output.renderOutput(dataTable, element);\n",
              "        const docLink = document.createElement('div');\n",
              "        docLink.innerHTML = docLinkHtml;\n",
              "        element.appendChild(docLink);\n",
              "      }\n",
              "    </script>\n",
              "  </div>\n",
              "\n",
              "\n",
              "<div id=\"df-a90e753b-cfce-4968-b1c3-f3276898e956\">\n",
              "  <button class=\"colab-df-quickchart\" onclick=\"quickchart('df-a90e753b-cfce-4968-b1c3-f3276898e956')\"\n",
              "            title=\"Suggest charts\"\n",
              "            style=\"display:none;\">\n",
              "\n",
              "<svg xmlns=\"http://www.w3.org/2000/svg\" height=\"24px\"viewBox=\"0 0 24 24\"\n",
              "     width=\"24px\">\n",
              "    <g>\n",
              "        <path d=\"M19 3H5c-1.1 0-2 .9-2 2v14c0 1.1.9 2 2 2h14c1.1 0 2-.9 2-2V5c0-1.1-.9-2-2-2zM9 17H7v-7h2v7zm4 0h-2V7h2v10zm4 0h-2v-4h2v4z\"/>\n",
              "    </g>\n",
              "</svg>\n",
              "  </button>\n",
              "\n",
              "<style>\n",
              "  .colab-df-quickchart {\n",
              "      --bg-color: #E8F0FE;\n",
              "      --fill-color: #1967D2;\n",
              "      --hover-bg-color: #E2EBFA;\n",
              "      --hover-fill-color: #174EA6;\n",
              "      --disabled-fill-color: #AAA;\n",
              "      --disabled-bg-color: #DDD;\n",
              "  }\n",
              "\n",
              "  [theme=dark] .colab-df-quickchart {\n",
              "      --bg-color: #3B4455;\n",
              "      --fill-color: #D2E3FC;\n",
              "      --hover-bg-color: #434B5C;\n",
              "      --hover-fill-color: #FFFFFF;\n",
              "      --disabled-bg-color: #3B4455;\n",
              "      --disabled-fill-color: #666;\n",
              "  }\n",
              "\n",
              "  .colab-df-quickchart {\n",
              "    background-color: var(--bg-color);\n",
              "    border: none;\n",
              "    border-radius: 50%;\n",
              "    cursor: pointer;\n",
              "    display: none;\n",
              "    fill: var(--fill-color);\n",
              "    height: 32px;\n",
              "    padding: 0;\n",
              "    width: 32px;\n",
              "  }\n",
              "\n",
              "  .colab-df-quickchart:hover {\n",
              "    background-color: var(--hover-bg-color);\n",
              "    box-shadow: 0 1px 2px rgba(60, 64, 67, 0.3), 0 1px 3px 1px rgba(60, 64, 67, 0.15);\n",
              "    fill: var(--button-hover-fill-color);\n",
              "  }\n",
              "\n",
              "  .colab-df-quickchart-complete:disabled,\n",
              "  .colab-df-quickchart-complete:disabled:hover {\n",
              "    background-color: var(--disabled-bg-color);\n",
              "    fill: var(--disabled-fill-color);\n",
              "    box-shadow: none;\n",
              "  }\n",
              "\n",
              "  .colab-df-spinner {\n",
              "    border: 2px solid var(--fill-color);\n",
              "    border-color: transparent;\n",
              "    border-bottom-color: var(--fill-color);\n",
              "    animation:\n",
              "      spin 1s steps(1) infinite;\n",
              "  }\n",
              "\n",
              "  @keyframes spin {\n",
              "    0% {\n",
              "      border-color: transparent;\n",
              "      border-bottom-color: var(--fill-color);\n",
              "      border-left-color: var(--fill-color);\n",
              "    }\n",
              "    20% {\n",
              "      border-color: transparent;\n",
              "      border-left-color: var(--fill-color);\n",
              "      border-top-color: var(--fill-color);\n",
              "    }\n",
              "    30% {\n",
              "      border-color: transparent;\n",
              "      border-left-color: var(--fill-color);\n",
              "      border-top-color: var(--fill-color);\n",
              "      border-right-color: var(--fill-color);\n",
              "    }\n",
              "    40% {\n",
              "      border-color: transparent;\n",
              "      border-right-color: var(--fill-color);\n",
              "      border-top-color: var(--fill-color);\n",
              "    }\n",
              "    60% {\n",
              "      border-color: transparent;\n",
              "      border-right-color: var(--fill-color);\n",
              "    }\n",
              "    80% {\n",
              "      border-color: transparent;\n",
              "      border-right-color: var(--fill-color);\n",
              "      border-bottom-color: var(--fill-color);\n",
              "    }\n",
              "    90% {\n",
              "      border-color: transparent;\n",
              "      border-bottom-color: var(--fill-color);\n",
              "    }\n",
              "  }\n",
              "</style>\n",
              "\n",
              "  <script>\n",
              "    async function quickchart(key) {\n",
              "      const quickchartButtonEl =\n",
              "        document.querySelector('#' + key + ' button');\n",
              "      quickchartButtonEl.disabled = true;  // To prevent multiple clicks.\n",
              "      quickchartButtonEl.classList.add('colab-df-spinner');\n",
              "      try {\n",
              "        const charts = await google.colab.kernel.invokeFunction(\n",
              "            'suggestCharts', [key], {});\n",
              "      } catch (error) {\n",
              "        console.error('Error during call to suggestCharts:', error);\n",
              "      }\n",
              "      quickchartButtonEl.classList.remove('colab-df-spinner');\n",
              "      quickchartButtonEl.classList.add('colab-df-quickchart-complete');\n",
              "    }\n",
              "    (() => {\n",
              "      let quickchartButtonEl =\n",
              "        document.querySelector('#df-a90e753b-cfce-4968-b1c3-f3276898e956 button');\n",
              "      quickchartButtonEl.style.display =\n",
              "        google.colab.kernel.accessAllowed ? 'block' : 'none';\n",
              "    })();\n",
              "  </script>\n",
              "</div>\n",
              "\n",
              "    </div>\n",
              "  </div>\n"
            ]
          },
          "metadata": {},
          "execution_count": 18
        }
      ]
    },
    {
      "cell_type": "code",
      "source": [
        "df[\"director_name\"].isna().sum() / df.shape[0]"
      ],
      "metadata": {
        "colab": {
          "base_uri": "https://localhost:8080/"
        },
        "id": "YFgzeY9Wd5Sv",
        "outputId": "783ff498-15cd-4551-e864-5427fabaaeaa"
      },
      "execution_count": 19,
      "outputs": [
        {
          "output_type": "execute_result",
          "data": {
            "text/plain": [
              "0.02062264525084275"
            ]
          },
          "metadata": {},
          "execution_count": 19
        }
      ]
    },
    {
      "cell_type": "code",
      "source": [
        "df[\"director_name\"].dropna(inplace=True)"
      ],
      "metadata": {
        "id": "_UsLRj2aAydW"
      },
      "execution_count": 20,
      "outputs": []
    },
    {
      "cell_type": "code",
      "source": [
        "df.isna().sum()"
      ],
      "metadata": {
        "colab": {
          "base_uri": "https://localhost:8080/"
        },
        "id": "gMn5vRv6A5lk",
        "outputId": "1d185df1-ae2a-400f-8d4e-289427f8e6e5"
      },
      "execution_count": 21,
      "outputs": [
        {
          "output_type": "execute_result",
          "data": {
            "text/plain": [
              "color                          0\n",
              "director_name                104\n",
              "num_critic_for_reviews        50\n",
              "duration                      15\n",
              "director_facebook_likes      104\n",
              "actor_3_facebook_likes        23\n",
              "actor_2_name                  13\n",
              "actor_1_facebook_likes         7\n",
              "gross                          0\n",
              "genres                         0\n",
              "actor_1_name                   7\n",
              "movie_title                    0\n",
              "num_voted_users                0\n",
              "cast_total_facebook_likes      0\n",
              "actor_3_name                  23\n",
              "facenumber_in_poster          13\n",
              "plot_keywords                153\n",
              "movie_imdb_link                0\n",
              "num_user_for_reviews          20\n",
              "language                      12\n",
              "country                        5\n",
              "content_rating               303\n",
              "budget                       492\n",
              "title_year                   108\n",
              "actor_2_facebook_likes        13\n",
              "imdb_score                     0\n",
              "aspect_ratio                 329\n",
              "movie_facebook_likes           0\n",
              "dtype: int64"
            ]
          },
          "metadata": {},
          "execution_count": 21
        }
      ]
    },
    {
      "cell_type": "code",
      "source": [
        "from sklearn.impute import KNNImputer\n",
        "knn = KNNImputer(n_neighbors=5)\n",
        "imputed = knn.fit_transform(df[\"aspect_ratio\"].values.reshape(-1,1))"
      ],
      "metadata": {
        "id": "4sxjl_t6B1At"
      },
      "execution_count": 22,
      "outputs": []
    },
    {
      "cell_type": "code",
      "source": [
        "df[\"aspect_ratio\"] = imputed"
      ],
      "metadata": {
        "id": "Htt_3reWB9ks"
      },
      "execution_count": 23,
      "outputs": []
    },
    {
      "cell_type": "code",
      "source": [
        "df.isnull().sum()"
      ],
      "metadata": {
        "colab": {
          "base_uri": "https://localhost:8080/"
        },
        "id": "9hlrizSUC5eU",
        "outputId": "14c00fc8-c8af-4168-c8d6-683903b77ef4"
      },
      "execution_count": 24,
      "outputs": [
        {
          "output_type": "execute_result",
          "data": {
            "text/plain": [
              "color                          0\n",
              "director_name                104\n",
              "num_critic_for_reviews        50\n",
              "duration                      15\n",
              "director_facebook_likes      104\n",
              "actor_3_facebook_likes        23\n",
              "actor_2_name                  13\n",
              "actor_1_facebook_likes         7\n",
              "gross                          0\n",
              "genres                         0\n",
              "actor_1_name                   7\n",
              "movie_title                    0\n",
              "num_voted_users                0\n",
              "cast_total_facebook_likes      0\n",
              "actor_3_name                  23\n",
              "facenumber_in_poster          13\n",
              "plot_keywords                153\n",
              "movie_imdb_link                0\n",
              "num_user_for_reviews          20\n",
              "language                      12\n",
              "country                        5\n",
              "content_rating               303\n",
              "budget                       492\n",
              "title_year                   108\n",
              "actor_2_facebook_likes        13\n",
              "imdb_score                     0\n",
              "aspect_ratio                   0\n",
              "movie_facebook_likes           0\n",
              "dtype: int64"
            ]
          },
          "metadata": {},
          "execution_count": 24
        }
      ]
    },
    {
      "cell_type": "code",
      "source": [
        "from sklearn.impute import KNNImputer\n",
        "knn = KNNImputer(n_neighbors=5)\n",
        "imputed = knn.fit_transform(df[\"budget\"].values.reshape(-1,1))"
      ],
      "metadata": {
        "id": "g_7cxdP8C79E"
      },
      "execution_count": 25,
      "outputs": []
    },
    {
      "cell_type": "code",
      "source": [
        "df[\"budget\"].value_counts()"
      ],
      "metadata": {
        "colab": {
          "base_uri": "https://localhost:8080/"
        },
        "id": "eROwb2PUEd8u",
        "outputId": "695e18b1-f6a8-437d-e3ef-ac0227b93059"
      },
      "execution_count": 26,
      "outputs": [
        {
          "output_type": "execute_result",
          "data": {
            "text/plain": [
              "20000000.0    174\n",
              "15000000.0    143\n",
              "25000000.0    142\n",
              "30000000.0    141\n",
              "10000000.0    135\n",
              "             ... \n",
              "10818775.0      1\n",
              "13800000.0      1\n",
              "12305523.0      1\n",
              "12600000.0      1\n",
              "1100.0          1\n",
              "Name: budget, Length: 439, dtype: int64"
            ]
          },
          "metadata": {},
          "execution_count": 26
        }
      ]
    },
    {
      "cell_type": "code",
      "source": [
        "df[\"budget\"] = imputed"
      ],
      "metadata": {
        "id": "uqtP5BPEC_v8"
      },
      "execution_count": 27,
      "outputs": []
    },
    {
      "cell_type": "code",
      "source": [
        "df.isna().sum()"
      ],
      "metadata": {
        "colab": {
          "base_uri": "https://localhost:8080/"
        },
        "id": "mh62Q1jZDxZd",
        "outputId": "a3d80b90-6891-47ee-8a6c-4a27800e2a55"
      },
      "execution_count": 28,
      "outputs": [
        {
          "output_type": "execute_result",
          "data": {
            "text/plain": [
              "color                          0\n",
              "director_name                104\n",
              "num_critic_for_reviews        50\n",
              "duration                      15\n",
              "director_facebook_likes      104\n",
              "actor_3_facebook_likes        23\n",
              "actor_2_name                  13\n",
              "actor_1_facebook_likes         7\n",
              "gross                          0\n",
              "genres                         0\n",
              "actor_1_name                   7\n",
              "movie_title                    0\n",
              "num_voted_users                0\n",
              "cast_total_facebook_likes      0\n",
              "actor_3_name                  23\n",
              "facenumber_in_poster          13\n",
              "plot_keywords                153\n",
              "movie_imdb_link                0\n",
              "num_user_for_reviews          20\n",
              "language                      12\n",
              "country                        5\n",
              "content_rating               303\n",
              "budget                         0\n",
              "title_year                   108\n",
              "actor_2_facebook_likes        13\n",
              "imdb_score                     0\n",
              "aspect_ratio                   0\n",
              "movie_facebook_likes           0\n",
              "dtype: int64"
            ]
          },
          "metadata": {},
          "execution_count": 28
        }
      ]
    },
    {
      "cell_type": "code",
      "source": [
        "int(df[\"title_year\"].median())"
      ],
      "metadata": {
        "colab": {
          "base_uri": "https://localhost:8080/"
        },
        "id": "v4JBBoV5DzPc",
        "outputId": "2042d8e9-353c-4d41-bb66-a39a00439c46"
      },
      "execution_count": 29,
      "outputs": [
        {
          "output_type": "execute_result",
          "data": {
            "text/plain": [
              "2005"
            ]
          },
          "metadata": {},
          "execution_count": 29
        }
      ]
    },
    {
      "cell_type": "code",
      "source": [
        "df[\"title_year\"] = df[\"title_year\"].fillna(int(df[\"title_year\"].mean()))"
      ],
      "metadata": {
        "id": "KT3e3u8cD51U"
      },
      "execution_count": 30,
      "outputs": []
    },
    {
      "cell_type": "code",
      "source": [
        "df.title_year.value_counts()"
      ],
      "metadata": {
        "colab": {
          "base_uri": "https://localhost:8080/"
        },
        "id": "hhkPS9oBEH5d",
        "outputId": "1aaf2ca4-8dfb-4d19-c168-21791a8654ae"
      },
      "execution_count": 31,
      "outputs": [
        {
          "output_type": "execute_result",
          "data": {
            "text/plain": [
              "2002.0    317\n",
              "2009.0    260\n",
              "2014.0    252\n",
              "2006.0    239\n",
              "2013.0    237\n",
              "         ... \n",
              "1932.0      1\n",
              "1916.0      1\n",
              "1934.0      1\n",
              "1925.0      1\n",
              "1920.0      1\n",
              "Name: title_year, Length: 91, dtype: int64"
            ]
          },
          "metadata": {},
          "execution_count": 31
        }
      ]
    },
    {
      "cell_type": "code",
      "source": [
        "df.isna().sum()"
      ],
      "metadata": {
        "colab": {
          "base_uri": "https://localhost:8080/"
        },
        "id": "WSpNNbhkFXJ1",
        "outputId": "87472826-5c07-4053-90a0-6174d64bf71f"
      },
      "execution_count": 32,
      "outputs": [
        {
          "output_type": "execute_result",
          "data": {
            "text/plain": [
              "color                          0\n",
              "director_name                104\n",
              "num_critic_for_reviews        50\n",
              "duration                      15\n",
              "director_facebook_likes      104\n",
              "actor_3_facebook_likes        23\n",
              "actor_2_name                  13\n",
              "actor_1_facebook_likes         7\n",
              "gross                          0\n",
              "genres                         0\n",
              "actor_1_name                   7\n",
              "movie_title                    0\n",
              "num_voted_users                0\n",
              "cast_total_facebook_likes      0\n",
              "actor_3_name                  23\n",
              "facenumber_in_poster          13\n",
              "plot_keywords                153\n",
              "movie_imdb_link                0\n",
              "num_user_for_reviews          20\n",
              "language                      12\n",
              "country                        5\n",
              "content_rating               303\n",
              "budget                         0\n",
              "title_year                     0\n",
              "actor_2_facebook_likes        13\n",
              "imdb_score                     0\n",
              "aspect_ratio                   0\n",
              "movie_facebook_likes           0\n",
              "dtype: int64"
            ]
          },
          "metadata": {},
          "execution_count": 32
        }
      ]
    },
    {
      "cell_type": "code",
      "source": [
        "df[\"actor_2_facebook_likes\"].value_counts()"
      ],
      "metadata": {
        "colab": {
          "base_uri": "https://localhost:8080/"
        },
        "id": "m9z8s7bvFofV",
        "outputId": "fa011432-5ad4-4e59-9ddb-08772fefff32"
      },
      "execution_count": 33,
      "outputs": [
        {
          "output_type": "execute_result",
          "data": {
            "text/plain": [
              "1000.0     309\n",
              "11000.0    111\n",
              "2000.0     100\n",
              "3000.0      76\n",
              "0.0         55\n",
              "          ... \n",
              "964.0        1\n",
              "179.0        1\n",
              "355.0        1\n",
              "556.0        1\n",
              "470.0        1\n",
              "Name: actor_2_facebook_likes, Length: 917, dtype: int64"
            ]
          },
          "metadata": {},
          "execution_count": 33
        }
      ]
    },
    {
      "cell_type": "code",
      "source": [
        "int(df[\"actor_2_facebook_likes\"].mean())"
      ],
      "metadata": {
        "colab": {
          "base_uri": "https://localhost:8080/"
        },
        "id": "UcNOEtbhFzCd",
        "outputId": "3a952f40-6273-4772-e0f0-ef2e510ad30e"
      },
      "execution_count": 34,
      "outputs": [
        {
          "output_type": "execute_result",
          "data": {
            "text/plain": [
              "1651"
            ]
          },
          "metadata": {},
          "execution_count": 34
        }
      ]
    },
    {
      "cell_type": "code",
      "source": [
        "df[\"actor_2_facebook_likes\"] = df[\"actor_2_facebook_likes\"].fillna(int(df[\"actor_2_facebook_likes\"].mean()))"
      ],
      "metadata": {
        "id": "4o0N8C1wF6mV"
      },
      "execution_count": 35,
      "outputs": []
    },
    {
      "cell_type": "code",
      "source": [
        "df.isna().sum()"
      ],
      "metadata": {
        "colab": {
          "base_uri": "https://localhost:8080/"
        },
        "id": "kviwvnmjGeCF",
        "outputId": "71cfe131-febe-432d-fa14-97604490fec2"
      },
      "execution_count": 36,
      "outputs": [
        {
          "output_type": "execute_result",
          "data": {
            "text/plain": [
              "color                          0\n",
              "director_name                104\n",
              "num_critic_for_reviews        50\n",
              "duration                      15\n",
              "director_facebook_likes      104\n",
              "actor_3_facebook_likes        23\n",
              "actor_2_name                  13\n",
              "actor_1_facebook_likes         7\n",
              "gross                          0\n",
              "genres                         0\n",
              "actor_1_name                   7\n",
              "movie_title                    0\n",
              "num_voted_users                0\n",
              "cast_total_facebook_likes      0\n",
              "actor_3_name                  23\n",
              "facenumber_in_poster          13\n",
              "plot_keywords                153\n",
              "movie_imdb_link                0\n",
              "num_user_for_reviews          20\n",
              "language                      12\n",
              "country                        5\n",
              "content_rating               303\n",
              "budget                         0\n",
              "title_year                     0\n",
              "actor_2_facebook_likes         0\n",
              "imdb_score                     0\n",
              "aspect_ratio                   0\n",
              "movie_facebook_likes           0\n",
              "dtype: int64"
            ]
          },
          "metadata": {},
          "execution_count": 36
        }
      ]
    },
    {
      "cell_type": "markdown",
      "source": [
        "**Motion Picture Association of America (MPAA) ratings**:\n",
        "\n",
        "* **R**: Restricted - Requires accompanying parent or adult guardian for viewers under 17.\n",
        "* **PG-13**: Parents Strongly Cautioned - Some material may be inappropriate for children under 13.\n",
        "* **PG**: Parental Guidance Suggested - Some material may not be suitable for children.\n",
        "* **G**: General Audiences - All ages admitted.\n",
        "\n",
        "**Television Parental Guidelines**:\n",
        "\n",
        "* **TV-14**: Parents strongly cautioned - May not be suitable for children under 14.\n",
        "* **TV-MA**: For Mature Audiences - Only suitable for mature audiences due to strong content.\n",
        "* **TV-PG**: Parental guidance suggested - May contain some material parents may find unsuitable for younger children.\n",
        "* **TV-G**: Suitable for all audiences.\n",
        "* **TV-Y**: Directed to a very young audience.\n",
        "* **TV-Y7**: Directed to children ages 7 and above.\n",
        "\n",
        "**Other**:\n",
        "\n",
        "* **Not Rated**: The content has not been submitted for or received a formal rating.\n",
        "* **Unrated**: May refer to content that has been deemed unsuitable for any rating category.\n",
        "* **Approved**: Could indicate approval by a specific organization or entity, but the meaning depends on the context.\n",
        "* **Passed**: Similar to \"Approved,\" the specific meaning depends on the context.\n",
        "* **NC-17**: No One Under 17 Admitted - Explicit adult content that is unsuitable for audiences under 17.\n",
        "* **GP**: General Patronage - Intended for all ages, similar to G.\n",
        "* **M**: Mature - May contain adult content not suitable for young children, similar to PG-13.\n",
        "\n",
        "**Key Points**:\n",
        "\n",
        "* The majority of your data seems to have **MPAA** and **TV** Parental Guidelines ratings.\n",
        "* The presence of \"PG\" and \"TV-G\" ratings suggests you might be dealing with family-oriented content.\n",
        "* The occurrence of \"R\" and \"TV-14\" indicates some content might be mature or unsuitable for younger audiences."
      ],
      "metadata": {
        "id": "mnnYkZRnIaF8"
      }
    },
    {
      "cell_type": "code",
      "source": [
        "df[\"content_rating\"].value_counts()"
      ],
      "metadata": {
        "colab": {
          "base_uri": "https://localhost:8080/"
        },
        "id": "KRZPUFBcG6ei",
        "outputId": "a4ac86f2-7965-47d6-b3ee-462bfa502339"
      },
      "execution_count": 37,
      "outputs": [
        {
          "output_type": "execute_result",
          "data": {
            "text/plain": [
              "R            2118\n",
              "PG-13        1461\n",
              "PG            701\n",
              "Not Rated     116\n",
              "G             112\n",
              "Unrated        62\n",
              "Approved       55\n",
              "TV-14          30\n",
              "TV-MA          20\n",
              "TV-PG          13\n",
              "X              13\n",
              "TV-G           10\n",
              "Passed          9\n",
              "NC-17           7\n",
              "GP              6\n",
              "M               5\n",
              "TV-Y            1\n",
              "TV-Y7           1\n",
              "Name: content_rating, dtype: int64"
            ]
          },
          "metadata": {},
          "execution_count": 37
        }
      ]
    },
    {
      "cell_type": "code",
      "source": [
        "df.groupby(\"content_rating\")[\"imdb_score\"].mean().sort_values(ascending=False)"
      ],
      "metadata": {
        "colab": {
          "base_uri": "https://localhost:8080/"
        },
        "id": "GIRC4GkKGgq8",
        "outputId": "3df88162-1f4a-40db-e4ab-8ed8d708fd40"
      },
      "execution_count": 38,
      "outputs": [
        {
          "output_type": "execute_result",
          "data": {
            "text/plain": [
              "content_rating\n",
              "TV-MA        8.250000\n",
              "TV-Y         7.400000\n",
              "TV-PG        7.353846\n",
              "Approved     7.325455\n",
              "TV-14        7.250000\n",
              "TV-Y7        7.200000\n",
              "Passed       7.166667\n",
              "Unrated      6.920968\n",
              "TV-G         6.920000\n",
              "GP           6.916667\n",
              "M            6.840000\n",
              "Not Rated    6.631034\n",
              "NC-17        6.542857\n",
              "G            6.529464\n",
              "R            6.527101\n",
              "X            6.500000\n",
              "PG           6.294437\n",
              "PG-13        6.257495\n",
              "Name: imdb_score, dtype: float64"
            ]
          },
          "metadata": {},
          "execution_count": 38
        }
      ]
    },
    {
      "cell_type": "code",
      "source": [
        "df[\"content_rating\"] = df[\"content_rating\"].fillna(\"TV-MA\")"
      ],
      "metadata": {
        "id": "z2mTQOPOGmtE"
      },
      "execution_count": 39,
      "outputs": []
    },
    {
      "cell_type": "code",
      "source": [
        "df.isna().sum()"
      ],
      "metadata": {
        "colab": {
          "base_uri": "https://localhost:8080/"
        },
        "id": "U-7SH3orJ8yd",
        "outputId": "5acc0aea-a3d7-4ccf-b860-3055799c9f89"
      },
      "execution_count": 40,
      "outputs": [
        {
          "output_type": "execute_result",
          "data": {
            "text/plain": [
              "color                          0\n",
              "director_name                104\n",
              "num_critic_for_reviews        50\n",
              "duration                      15\n",
              "director_facebook_likes      104\n",
              "actor_3_facebook_likes        23\n",
              "actor_2_name                  13\n",
              "actor_1_facebook_likes         7\n",
              "gross                          0\n",
              "genres                         0\n",
              "actor_1_name                   7\n",
              "movie_title                    0\n",
              "num_voted_users                0\n",
              "cast_total_facebook_likes      0\n",
              "actor_3_name                  23\n",
              "facenumber_in_poster          13\n",
              "plot_keywords                153\n",
              "movie_imdb_link                0\n",
              "num_user_for_reviews          20\n",
              "language                      12\n",
              "country                        5\n",
              "content_rating                 0\n",
              "budget                         0\n",
              "title_year                     0\n",
              "actor_2_facebook_likes         0\n",
              "imdb_score                     0\n",
              "aspect_ratio                   0\n",
              "movie_facebook_likes           0\n",
              "dtype: int64"
            ]
          },
          "metadata": {},
          "execution_count": 40
        }
      ]
    },
    {
      "cell_type": "code",
      "source": [
        "df.dropna(subset=[\"director_name\"], inplace=True)"
      ],
      "metadata": {
        "id": "7bs_M5FAKbbG"
      },
      "execution_count": 41,
      "outputs": []
    },
    {
      "cell_type": "code",
      "source": [
        "df.isna().sum()"
      ],
      "metadata": {
        "colab": {
          "base_uri": "https://localhost:8080/"
        },
        "id": "l7jhDQw0Kjz1",
        "outputId": "f09818a9-3af6-4274-a1d7-47a684a90483"
      },
      "execution_count": 42,
      "outputs": [
        {
          "output_type": "execute_result",
          "data": {
            "text/plain": [
              "color                          0\n",
              "director_name                  0\n",
              "num_critic_for_reviews        45\n",
              "duration                      13\n",
              "director_facebook_likes        0\n",
              "actor_3_facebook_likes        20\n",
              "actor_2_name                  11\n",
              "actor_1_facebook_likes         7\n",
              "gross                          0\n",
              "genres                         0\n",
              "actor_1_name                   7\n",
              "movie_title                    0\n",
              "num_voted_users                0\n",
              "cast_total_facebook_likes      0\n",
              "actor_3_name                  20\n",
              "facenumber_in_poster          13\n",
              "plot_keywords                144\n",
              "movie_imdb_link                0\n",
              "num_user_for_reviews          18\n",
              "language                      11\n",
              "country                        3\n",
              "content_rating                 0\n",
              "budget                         0\n",
              "title_year                     0\n",
              "actor_2_facebook_likes         0\n",
              "imdb_score                     0\n",
              "aspect_ratio                   0\n",
              "movie_facebook_likes           0\n",
              "dtype: int64"
            ]
          },
          "metadata": {},
          "execution_count": 42
        }
      ]
    },
    {
      "cell_type": "code",
      "source": [
        "df[\"plot_keywords\"].isna().sum()/len(df)"
      ],
      "metadata": {
        "colab": {
          "base_uri": "https://localhost:8080/"
        },
        "id": "4dDy1NOVKtbd",
        "outputId": "d1b38131-c440-441d-aed6-8e6423caed4f"
      },
      "execution_count": 43,
      "outputs": [
        {
          "output_type": "execute_result",
          "data": {
            "text/plain": [
              "0.029155699534318687"
            ]
          },
          "metadata": {},
          "execution_count": 43
        }
      ]
    },
    {
      "cell_type": "code",
      "source": [
        "df.dropna(subset=[\"plot_keywords\"],inplace=True)"
      ],
      "metadata": {
        "id": "ucPQYgxoMGYU"
      },
      "execution_count": 44,
      "outputs": []
    },
    {
      "cell_type": "code",
      "source": [
        "len(df)"
      ],
      "metadata": {
        "colab": {
          "base_uri": "https://localhost:8080/"
        },
        "id": "AUxbldxBbMSN",
        "outputId": "5820628e-c384-47f1-a889-f9545de20913"
      },
      "execution_count": 45,
      "outputs": [
        {
          "output_type": "execute_result",
          "data": {
            "text/plain": [
              "4795"
            ]
          },
          "metadata": {},
          "execution_count": 45
        }
      ]
    },
    {
      "cell_type": "code",
      "source": [
        "df.isna().sum()"
      ],
      "metadata": {
        "colab": {
          "base_uri": "https://localhost:8080/"
        },
        "id": "avCGRqwIbTka",
        "outputId": "a4649e02-d973-4ac0-e8a4-b2933bcac265"
      },
      "execution_count": 46,
      "outputs": [
        {
          "output_type": "execute_result",
          "data": {
            "text/plain": [
              "color                         0\n",
              "director_name                 0\n",
              "num_critic_for_reviews       23\n",
              "duration                      6\n",
              "director_facebook_likes       0\n",
              "actor_3_facebook_likes       14\n",
              "actor_2_name                  8\n",
              "actor_1_facebook_likes        7\n",
              "gross                         0\n",
              "genres                        0\n",
              "actor_1_name                  7\n",
              "movie_title                   0\n",
              "num_voted_users               0\n",
              "cast_total_facebook_likes     0\n",
              "actor_3_name                 14\n",
              "facenumber_in_poster         11\n",
              "plot_keywords                 0\n",
              "movie_imdb_link               0\n",
              "num_user_for_reviews          6\n",
              "language                      7\n",
              "country                       1\n",
              "content_rating                0\n",
              "budget                        0\n",
              "title_year                    0\n",
              "actor_2_facebook_likes        0\n",
              "imdb_score                    0\n",
              "aspect_ratio                  0\n",
              "movie_facebook_likes          0\n",
              "dtype: int64"
            ]
          },
          "metadata": {},
          "execution_count": 46
        }
      ]
    },
    {
      "cell_type": "code",
      "source": [
        "df[\"country\"] = df[\"country\"].fillna(df[\"country\"].mode()[0])"
      ],
      "metadata": {
        "id": "idfwNfZwbWLb"
      },
      "execution_count": 47,
      "outputs": []
    },
    {
      "cell_type": "code",
      "source": [
        "df.country.value_counts()"
      ],
      "metadata": {
        "colab": {
          "base_uri": "https://localhost:8080/"
        },
        "id": "u26vjNfQbb70",
        "outputId": "9208c2e3-1834-45b2-f9bc-5a050a03c51b"
      },
      "execution_count": 48,
      "outputs": [
        {
          "output_type": "execute_result",
          "data": {
            "text/plain": [
              "USA                     3648\n",
              "UK                       426\n",
              "France                   150\n",
              "Canada                   109\n",
              "Germany                   97\n",
              "Australia                 53\n",
              "Spain                     32\n",
              "India                     29\n",
              "China                     26\n",
              "Japan                     22\n",
              "Italy                     20\n",
              "Hong Kong                 16\n",
              "New Zealand               15\n",
              "South Korea               12\n",
              "Mexico                    11\n",
              "Russia                    11\n",
              "Denmark                   11\n",
              "Ireland                   11\n",
              "Brazil                     8\n",
              "South Africa               8\n",
              "Norway                     7\n",
              "Thailand                   5\n",
              "Sweden                     5\n",
              "Netherlands                5\n",
              "Argentina                  4\n",
              "Iran                       4\n",
              "Switzerland                3\n",
              "West Germany               3\n",
              "Belgium                    3\n",
              "Israel                     3\n",
              "Czech Republic             3\n",
              "Taiwan                     2\n",
              "Poland                     2\n",
              "Romania                    2\n",
              "Iceland                    2\n",
              "Hungary                    2\n",
              "Greece                     2\n",
              "Bahamas                    1\n",
              "Colombia                   1\n",
              "Libya                      1\n",
              "Kyrgyzstan                 1\n",
              "Indonesia                  1\n",
              "Pakistan                   1\n",
              "Afghanistan                1\n",
              "United Arab Emirates       1\n",
              "Finland                    1\n",
              "Georgia                    1\n",
              "Nigeria                    1\n",
              "Turkey                     1\n",
              "New Line                   1\n",
              "Aruba                      1\n",
              "Bulgaria                   1\n",
              "Slovakia                   1\n",
              "Cambodia                   1\n",
              "Official site              1\n",
              "Soviet Union               1\n",
              "Panama                     1\n",
              "Peru                       1\n",
              "Chile                      1\n",
              "Philippines                1\n",
              "Name: country, dtype: int64"
            ]
          },
          "metadata": {},
          "execution_count": 48
        }
      ]
    },
    {
      "cell_type": "code",
      "source": [
        "df.isna().sum()"
      ],
      "metadata": {
        "colab": {
          "base_uri": "https://localhost:8080/"
        },
        "id": "qzwAy45FbwEe",
        "outputId": "04b7857a-3d26-412d-d6fd-89990cdf4c5a"
      },
      "execution_count": 49,
      "outputs": [
        {
          "output_type": "execute_result",
          "data": {
            "text/plain": [
              "color                         0\n",
              "director_name                 0\n",
              "num_critic_for_reviews       23\n",
              "duration                      6\n",
              "director_facebook_likes       0\n",
              "actor_3_facebook_likes       14\n",
              "actor_2_name                  8\n",
              "actor_1_facebook_likes        7\n",
              "gross                         0\n",
              "genres                        0\n",
              "actor_1_name                  7\n",
              "movie_title                   0\n",
              "num_voted_users               0\n",
              "cast_total_facebook_likes     0\n",
              "actor_3_name                 14\n",
              "facenumber_in_poster         11\n",
              "plot_keywords                 0\n",
              "movie_imdb_link               0\n",
              "num_user_for_reviews          6\n",
              "language                      7\n",
              "country                       0\n",
              "content_rating                0\n",
              "budget                        0\n",
              "title_year                    0\n",
              "actor_2_facebook_likes        0\n",
              "imdb_score                    0\n",
              "aspect_ratio                  0\n",
              "movie_facebook_likes          0\n",
              "dtype: int64"
            ]
          },
          "metadata": {},
          "execution_count": 49
        }
      ]
    },
    {
      "cell_type": "code",
      "source": [
        "df[\"language\"].value_counts()"
      ],
      "metadata": {
        "colab": {
          "base_uri": "https://localhost:8080/"
        },
        "id": "v4w6iGUEb2BD",
        "outputId": "1679e891-d08b-4f98-f436-cc9b1bb6fd00"
      },
      "execution_count": 50,
      "outputs": [
        {
          "output_type": "execute_result",
          "data": {
            "text/plain": [
              "English       4492\n",
              "French          69\n",
              "Spanish         35\n",
              "Hindi           26\n",
              "Mandarin        26\n",
              "German          18\n",
              "Japanese        17\n",
              "Russian         11\n",
              "Cantonese       10\n",
              "Italian         10\n",
              "Portuguese       8\n",
              "Korean           8\n",
              "Danish           5\n",
              "Norwegian        4\n",
              "Hebrew           4\n",
              "Arabic           4\n",
              "Persian          4\n",
              "Swedish          4\n",
              "Dutch            4\n",
              "Thai             3\n",
              "Dari             2\n",
              "Aboriginal       2\n",
              "None             2\n",
              "Indonesian       2\n",
              "Zulu             2\n",
              "Czech            1\n",
              "Romanian         1\n",
              "Urdu             1\n",
              "Vietnamese       1\n",
              "Dzongkha         1\n",
              "Polish           1\n",
              "Maya             1\n",
              "Filipino         1\n",
              "Mongolian        1\n",
              "Kazakh           1\n",
              "Icelandic        1\n",
              "Telugu           1\n",
              "Hungarian        1\n",
              "Bosnian          1\n",
              "Aramaic          1\n",
              "Greek            1\n",
              "Name: language, dtype: int64"
            ]
          },
          "metadata": {},
          "execution_count": 50
        }
      ]
    },
    {
      "cell_type": "code",
      "source": [
        "df[\"language\"] = df[\"language\"].fillna(df[\"language\"].mode()[0])"
      ],
      "metadata": {
        "id": "2khjKW-tb7oL"
      },
      "execution_count": 51,
      "outputs": []
    },
    {
      "cell_type": "code",
      "source": [
        "df.isna().sum()"
      ],
      "metadata": {
        "colab": {
          "base_uri": "https://localhost:8080/"
        },
        "id": "NeZ7p_r5cFwr",
        "outputId": "da71695c-f537-4fa6-a77c-e2de8851c9c1"
      },
      "execution_count": 52,
      "outputs": [
        {
          "output_type": "execute_result",
          "data": {
            "text/plain": [
              "color                         0\n",
              "director_name                 0\n",
              "num_critic_for_reviews       23\n",
              "duration                      6\n",
              "director_facebook_likes       0\n",
              "actor_3_facebook_likes       14\n",
              "actor_2_name                  8\n",
              "actor_1_facebook_likes        7\n",
              "gross                         0\n",
              "genres                        0\n",
              "actor_1_name                  7\n",
              "movie_title                   0\n",
              "num_voted_users               0\n",
              "cast_total_facebook_likes     0\n",
              "actor_3_name                 14\n",
              "facenumber_in_poster         11\n",
              "plot_keywords                 0\n",
              "movie_imdb_link               0\n",
              "num_user_for_reviews          6\n",
              "language                      0\n",
              "country                       0\n",
              "content_rating                0\n",
              "budget                        0\n",
              "title_year                    0\n",
              "actor_2_facebook_likes        0\n",
              "imdb_score                    0\n",
              "aspect_ratio                  0\n",
              "movie_facebook_likes          0\n",
              "dtype: int64"
            ]
          },
          "metadata": {},
          "execution_count": 52
        }
      ]
    },
    {
      "cell_type": "code",
      "source": [
        "df[\"num_critic_for_reviews\"].value_counts()"
      ],
      "metadata": {
        "colab": {
          "base_uri": "https://localhost:8080/"
        },
        "id": "00WrLMrJcH_D",
        "outputId": "2a58cbd1-2fd1-453e-bacf-83e69439ea88"
      },
      "execution_count": 53,
      "outputs": [
        {
          "output_type": "execute_result",
          "data": {
            "text/plain": [
              "81.0     33\n",
              "43.0     30\n",
              "63.0     29\n",
              "25.0     29\n",
              "46.0     28\n",
              "         ..\n",
              "765.0     1\n",
              "738.0     1\n",
              "476.0     1\n",
              "775.0     1\n",
              "409.0     1\n",
              "Name: num_critic_for_reviews, Length: 528, dtype: int64"
            ]
          },
          "metadata": {},
          "execution_count": 53
        }
      ]
    },
    {
      "cell_type": "code",
      "source": [
        "df[\"num_critic_for_reviews\"].min() , df[\"num_critic_for_reviews\"].max()"
      ],
      "metadata": {
        "colab": {
          "base_uri": "https://localhost:8080/"
        },
        "id": "zo2nSHCXctHF",
        "outputId": "9bbf9423-287f-4a4e-e87d-92cabbf847d0"
      },
      "execution_count": 54,
      "outputs": [
        {
          "output_type": "execute_result",
          "data": {
            "text/plain": [
              "(1.0, 813.0)"
            ]
          },
          "metadata": {},
          "execution_count": 54
        }
      ]
    },
    {
      "cell_type": "code",
      "source": [
        "int(df[\"num_critic_for_reviews\"].mean())"
      ],
      "metadata": {
        "colab": {
          "base_uri": "https://localhost:8080/"
        },
        "id": "BSiW-dFBcTO0",
        "outputId": "5f45c061-0b74-4a8c-baed-368eb2cd80ec"
      },
      "execution_count": 55,
      "outputs": [
        {
          "output_type": "execute_result",
          "data": {
            "text/plain": [
              "145"
            ]
          },
          "metadata": {},
          "execution_count": 55
        }
      ]
    },
    {
      "cell_type": "code",
      "source": [
        "df[\"num_critic_for_reviews\"] = df[\"num_critic_for_reviews\"].fillna(int(df[\"num_critic_for_reviews\"].mean()))"
      ],
      "metadata": {
        "id": "AMQspflecipE"
      },
      "execution_count": 56,
      "outputs": []
    },
    {
      "cell_type": "code",
      "source": [
        "df.num_critic_for_reviews.value_counts().sort_values(ascending=False)"
      ],
      "metadata": {
        "colab": {
          "base_uri": "https://localhost:8080/"
        },
        "id": "07l32UyydR9k",
        "outputId": "7e20c25b-abbf-4098-fc67-c48ce3a447a5"
      },
      "execution_count": 57,
      "outputs": [
        {
          "output_type": "execute_result",
          "data": {
            "text/plain": [
              "145.0    39\n",
              "81.0     33\n",
              "43.0     30\n",
              "25.0     29\n",
              "63.0     29\n",
              "         ..\n",
              "426.0     1\n",
              "588.0     1\n",
              "399.0     1\n",
              "543.0     1\n",
              "409.0     1\n",
              "Name: num_critic_for_reviews, Length: 528, dtype: int64"
            ]
          },
          "metadata": {},
          "execution_count": 57
        }
      ]
    },
    {
      "cell_type": "code",
      "source": [
        "from scipy.stats import skew\n",
        "print(skew(df[\"num_critic_for_reviews\"]))"
      ],
      "metadata": {
        "colab": {
          "base_uri": "https://localhost:8080/"
        },
        "id": "KZlIx58ZdXm7",
        "outputId": "093e62bc-e1b1-4c36-e6ab-d702873d78dc"
      },
      "execution_count": 58,
      "outputs": [
        {
          "output_type": "stream",
          "name": "stdout",
          "text": [
            "1.510134765848394\n"
          ]
        }
      ]
    },
    {
      "cell_type": "code",
      "source": [
        "df.isna().sum()"
      ],
      "metadata": {
        "colab": {
          "base_uri": "https://localhost:8080/"
        },
        "id": "M-IiPVOOezIU",
        "outputId": "c66f8808-a326-492a-8286-6ce221791dab"
      },
      "execution_count": 59,
      "outputs": [
        {
          "output_type": "execute_result",
          "data": {
            "text/plain": [
              "color                         0\n",
              "director_name                 0\n",
              "num_critic_for_reviews        0\n",
              "duration                      6\n",
              "director_facebook_likes       0\n",
              "actor_3_facebook_likes       14\n",
              "actor_2_name                  8\n",
              "actor_1_facebook_likes        7\n",
              "gross                         0\n",
              "genres                        0\n",
              "actor_1_name                  7\n",
              "movie_title                   0\n",
              "num_voted_users               0\n",
              "cast_total_facebook_likes     0\n",
              "actor_3_name                 14\n",
              "facenumber_in_poster         11\n",
              "plot_keywords                 0\n",
              "movie_imdb_link               0\n",
              "num_user_for_reviews          6\n",
              "language                      0\n",
              "country                       0\n",
              "content_rating                0\n",
              "budget                        0\n",
              "title_year                    0\n",
              "actor_2_facebook_likes        0\n",
              "imdb_score                    0\n",
              "aspect_ratio                  0\n",
              "movie_facebook_likes          0\n",
              "dtype: int64"
            ]
          },
          "metadata": {},
          "execution_count": 59
        }
      ]
    },
    {
      "cell_type": "code",
      "source": [
        "int(df[\"actor_3_facebook_likes\"].mean())"
      ],
      "metadata": {
        "colab": {
          "base_uri": "https://localhost:8080/"
        },
        "id": "1We0Ue_8fHoi",
        "outputId": "33215800-f159-4ad6-aae3-280962b3983d"
      },
      "execution_count": 60,
      "outputs": [
        {
          "output_type": "execute_result",
          "data": {
            "text/plain": [
              "664"
            ]
          },
          "metadata": {},
          "execution_count": 60
        }
      ]
    },
    {
      "cell_type": "code",
      "source": [
        "df[\"actor_3_facebook_likes\"] = df[\"actor_3_facebook_likes\"].fillna(int(df[\"actor_3_facebook_likes\"].mean()))"
      ],
      "metadata": {
        "id": "BZNFnmHcfPJz"
      },
      "execution_count": 61,
      "outputs": []
    },
    {
      "cell_type": "code",
      "source": [
        "df[\"actor_3_facebook_likes\"].value_counts()"
      ],
      "metadata": {
        "colab": {
          "base_uri": "https://localhost:8080/"
        },
        "id": "FR4jeYE2fxui",
        "outputId": "5e2b2a48-da14-429f-cdaa-9f2df1bcc39e"
      },
      "execution_count": 62,
      "outputs": [
        {
          "output_type": "execute_result",
          "data": {
            "text/plain": [
              "1000.0     124\n",
              "0.0         69\n",
              "11000.0     29\n",
              "2000.0      27\n",
              "3000.0      26\n",
              "          ... \n",
              "779.0        1\n",
              "527.0        1\n",
              "916.0        1\n",
              "487.0        1\n",
              "156.0        1\n",
              "Name: actor_3_facebook_likes, Length: 905, dtype: int64"
            ]
          },
          "metadata": {},
          "execution_count": 62
        }
      ]
    },
    {
      "cell_type": "code",
      "source": [
        "df.isna().sum()"
      ],
      "metadata": {
        "colab": {
          "base_uri": "https://localhost:8080/"
        },
        "id": "ToD7EIsYf3e3",
        "outputId": "70291ee5-76b4-4227-979e-6eae173b9bbb"
      },
      "execution_count": 63,
      "outputs": [
        {
          "output_type": "execute_result",
          "data": {
            "text/plain": [
              "color                         0\n",
              "director_name                 0\n",
              "num_critic_for_reviews        0\n",
              "duration                      6\n",
              "director_facebook_likes       0\n",
              "actor_3_facebook_likes        0\n",
              "actor_2_name                  8\n",
              "actor_1_facebook_likes        7\n",
              "gross                         0\n",
              "genres                        0\n",
              "actor_1_name                  7\n",
              "movie_title                   0\n",
              "num_voted_users               0\n",
              "cast_total_facebook_likes     0\n",
              "actor_3_name                 14\n",
              "facenumber_in_poster         11\n",
              "plot_keywords                 0\n",
              "movie_imdb_link               0\n",
              "num_user_for_reviews          6\n",
              "language                      0\n",
              "country                       0\n",
              "content_rating                0\n",
              "budget                        0\n",
              "title_year                    0\n",
              "actor_2_facebook_likes        0\n",
              "imdb_score                    0\n",
              "aspect_ratio                  0\n",
              "movie_facebook_likes          0\n",
              "dtype: int64"
            ]
          },
          "metadata": {},
          "execution_count": 63
        }
      ]
    },
    {
      "cell_type": "code",
      "source": [
        "len(df)"
      ],
      "metadata": {
        "colab": {
          "base_uri": "https://localhost:8080/"
        },
        "id": "IDmIRUOPf7Gb",
        "outputId": "058c9f8b-b5a8-432a-e58d-e6f0ff2645fd"
      },
      "execution_count": 64,
      "outputs": [
        {
          "output_type": "execute_result",
          "data": {
            "text/plain": [
              "4795"
            ]
          },
          "metadata": {},
          "execution_count": 64
        }
      ]
    },
    {
      "cell_type": "code",
      "source": [
        "df.dropna(inplace=True)"
      ],
      "metadata": {
        "id": "AblmcH1MgL8T"
      },
      "execution_count": 65,
      "outputs": []
    },
    {
      "cell_type": "code",
      "source": [
        "len(df)"
      ],
      "metadata": {
        "colab": {
          "base_uri": "https://localhost:8080/"
        },
        "id": "CL3YuyAzgUer",
        "outputId": "a8f07dec-db7d-4724-d6a5-6dd4d6d6f6dd"
      },
      "execution_count": 66,
      "outputs": [
        {
          "output_type": "execute_result",
          "data": {
            "text/plain": [
              "4760"
            ]
          },
          "metadata": {},
          "execution_count": 66
        }
      ]
    },
    {
      "cell_type": "code",
      "source": [
        "df.isna().sum()"
      ],
      "metadata": {
        "colab": {
          "base_uri": "https://localhost:8080/"
        },
        "id": "yukNzLfSgbkz",
        "outputId": "96a0acfe-ac99-41ea-d539-e91abf097af3"
      },
      "execution_count": 67,
      "outputs": [
        {
          "output_type": "execute_result",
          "data": {
            "text/plain": [
              "color                        0\n",
              "director_name                0\n",
              "num_critic_for_reviews       0\n",
              "duration                     0\n",
              "director_facebook_likes      0\n",
              "actor_3_facebook_likes       0\n",
              "actor_2_name                 0\n",
              "actor_1_facebook_likes       0\n",
              "gross                        0\n",
              "genres                       0\n",
              "actor_1_name                 0\n",
              "movie_title                  0\n",
              "num_voted_users              0\n",
              "cast_total_facebook_likes    0\n",
              "actor_3_name                 0\n",
              "facenumber_in_poster         0\n",
              "plot_keywords                0\n",
              "movie_imdb_link              0\n",
              "num_user_for_reviews         0\n",
              "language                     0\n",
              "country                      0\n",
              "content_rating               0\n",
              "budget                       0\n",
              "title_year                   0\n",
              "actor_2_facebook_likes       0\n",
              "imdb_score                   0\n",
              "aspect_ratio                 0\n",
              "movie_facebook_likes         0\n",
              "dtype: int64"
            ]
          },
          "metadata": {},
          "execution_count": 67
        }
      ]
    },
    {
      "cell_type": "code",
      "source": [
        "4760/5043"
      ],
      "metadata": {
        "colab": {
          "base_uri": "https://localhost:8080/"
        },
        "id": "mvxy2A1SgjUz",
        "outputId": "df64ae6f-9702-42d2-b63e-eebd3265e996"
      },
      "execution_count": 68,
      "outputs": [
        {
          "output_type": "execute_result",
          "data": {
            "text/plain": [
              "0.9438826095578029"
            ]
          },
          "metadata": {},
          "execution_count": 68
        }
      ]
    },
    {
      "cell_type": "code",
      "source": [
        "df.isnull().sum()"
      ],
      "metadata": {
        "id": "DMt3aVAKgxdN",
        "colab": {
          "base_uri": "https://localhost:8080/"
        },
        "outputId": "e97af96e-130c-48fb-abea-906427a0aafe"
      },
      "execution_count": 69,
      "outputs": [
        {
          "output_type": "execute_result",
          "data": {
            "text/plain": [
              "color                        0\n",
              "director_name                0\n",
              "num_critic_for_reviews       0\n",
              "duration                     0\n",
              "director_facebook_likes      0\n",
              "actor_3_facebook_likes       0\n",
              "actor_2_name                 0\n",
              "actor_1_facebook_likes       0\n",
              "gross                        0\n",
              "genres                       0\n",
              "actor_1_name                 0\n",
              "movie_title                  0\n",
              "num_voted_users              0\n",
              "cast_total_facebook_likes    0\n",
              "actor_3_name                 0\n",
              "facenumber_in_poster         0\n",
              "plot_keywords                0\n",
              "movie_imdb_link              0\n",
              "num_user_for_reviews         0\n",
              "language                     0\n",
              "country                      0\n",
              "content_rating               0\n",
              "budget                       0\n",
              "title_year                   0\n",
              "actor_2_facebook_likes       0\n",
              "imdb_score                   0\n",
              "aspect_ratio                 0\n",
              "movie_facebook_likes         0\n",
              "dtype: int64"
            ]
          },
          "metadata": {},
          "execution_count": 69
        }
      ]
    },
    {
      "cell_type": "code",
      "source": [
        "df.columns"
      ],
      "metadata": {
        "colab": {
          "base_uri": "https://localhost:8080/"
        },
        "id": "Hmm5A6dxzTHS",
        "outputId": "5c54cac1-9587-4bf0-946a-74980e7e9462"
      },
      "execution_count": 70,
      "outputs": [
        {
          "output_type": "execute_result",
          "data": {
            "text/plain": [
              "Index(['color', 'director_name', 'num_critic_for_reviews', 'duration',\n",
              "       'director_facebook_likes', 'actor_3_facebook_likes', 'actor_2_name',\n",
              "       'actor_1_facebook_likes', 'gross', 'genres', 'actor_1_name',\n",
              "       'movie_title', 'num_voted_users', 'cast_total_facebook_likes',\n",
              "       'actor_3_name', 'facenumber_in_poster', 'plot_keywords',\n",
              "       'movie_imdb_link', 'num_user_for_reviews', 'language', 'country',\n",
              "       'content_rating', 'budget', 'title_year', 'actor_2_facebook_likes',\n",
              "       'imdb_score', 'aspect_ratio', 'movie_facebook_likes'],\n",
              "      dtype='object')"
            ]
          },
          "metadata": {},
          "execution_count": 70
        }
      ]
    },
    {
      "cell_type": "code",
      "source": [
        "df.to_csv(\"IMDB_preprocessed_data.csv\",index=False)"
      ],
      "metadata": {
        "id": "B7fLJ-VozV95"
      },
      "execution_count": 71,
      "outputs": []
    },
    {
      "cell_type": "code",
      "source": [
        "df.groupby(\"budget\")[\"gross\"].sum().sort_values(ascending=False)"
      ],
      "metadata": {
        "colab": {
          "base_uri": "https://localhost:8080/"
        },
        "id": "OncRoK96zfEA",
        "outputId": "258afac2-e897-4bff-d4e0-c2bb7a88163e"
      },
      "execution_count": 78,
      "outputs": [
        {
          "output_type": "execute_result",
          "data": {
            "text/plain": [
              "budget\n",
              "3.975262e+07    7.985616e+09\n",
              "1.500000e+08    7.477336e+09\n",
              "4.000000e+07    6.491284e+09\n",
              "3.000000e+07    6.250419e+09\n",
              "2.000000e+08    5.816435e+09\n",
              "                    ...     \n",
              "1.140000e+07    1.375100e+04\n",
              "1.400000e+04    1.266700e+04\n",
              "6.953930e+05    6.013000e+03\n",
              "8.400000e+06    5.725000e+03\n",
              "9.000000e+03    4.584000e+03\n",
              "Name: gross, Length: 430, dtype: float64"
            ]
          },
          "metadata": {},
          "execution_count": 78
        }
      ]
    },
    {
      "cell_type": "code",
      "source": [],
      "metadata": {
        "id": "UQrxUuDpU5yu"
      },
      "execution_count": null,
      "outputs": []
    }
  ]
}